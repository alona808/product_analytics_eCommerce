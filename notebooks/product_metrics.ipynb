{
 "cells": [
  {
   "cell_type": "markdown",
   "metadata": {},
   "source": [
    "# Title\n"
   ]
  },
  {
   "cell_type": "markdown",
   "metadata": {},
   "source": [
    "## Import modules\n"
   ]
  },
  {
   "cell_type": "code",
   "execution_count": 1,
   "metadata": {},
   "outputs": [
    {
     "name": "stdout",
     "output_type": "stream",
     "text": [
      "viztools.py is being imported into module\n",
      "helpers.py is being imported into module\n"
     ]
    }
   ],
   "source": [
    "import os\n",
    "import sys\n",
    "\n",
    "import pandas as pd\n",
    "import datetime as dt\n",
    "\n",
    "# To print all the outputs in the cell\n",
    "from IPython.core.interactiveshell import InteractiveShell\n",
    "InteractiveShell.ast_node_interactivity = \"all\"\n",
    "\n",
    "# To display the full text of a pandas DataFrame\n",
    "pd.set_option('display.max_colwidth', 1) \n",
    "\n",
    "# To display all columns of DataFrame\n",
    "pd.set_option('display.max_columns', None)\n",
    "\n",
    "# To show warnings only once:\n",
    "import warnings; warnings.filterwarnings(action='once')\n",
    "\n",
    "# Set path\n",
    "sys.path.insert(1, '../tools/')\n",
    "import viztools as vt\n",
    "import helpers as hp"
   ]
  },
  {
   "cell_type": "markdown",
   "metadata": {},
   "source": [
    "## Download processed datasets\n"
   ]
  },
  {
   "cell_type": "code",
   "execution_count": 2,
   "metadata": {},
   "outputs": [],
   "source": [
    "path_to_processed_data = '../data/processed/'\n",
    "file_sales = 'online_sales_details.csv'\n",
    "file_calendar_tbl = 'calendar_tbl.csv'\n",
    "file_marketing_tbl = 'marketing_spend.csv'"
   ]
  },
  {
   "cell_type": "markdown",
   "metadata": {},
   "source": [
    "Online sales details\n"
   ]
  },
  {
   "cell_type": "code",
   "execution_count": 3,
   "metadata": {},
   "outputs": [],
   "source": [
    "sales = pd.read_csv(os.path.join(path_to_processed_data, file_sales))\n",
    "\n",
    "sales['transaction_date'] = pd.to_datetime(sales['transaction_date'])\n",
    "sales['transaction_month'] = pd.to_datetime(sales['transaction_month'])\n",
    "\n",
    "df_sales = sales.copy()"
   ]
  },
  {
   "cell_type": "markdown",
   "metadata": {},
   "source": [
    "Marketing costs\n"
   ]
  },
  {
   "cell_type": "code",
   "execution_count": 4,
   "metadata": {},
   "outputs": [
    {
     "name": "stdout",
     "output_type": "stream",
     "text": [
      "<class 'pandas.core.frame.DataFrame'>\n",
      "RangeIndex: 365 entries, 0 to 364\n",
      "Data columns (total 3 columns):\n",
      " #   Column         Non-Null Count  Dtype         \n",
      "---  ------         --------------  -----         \n",
      " 0   date           365 non-null    datetime64[ns]\n",
      " 1   offline_spend  365 non-null    int64         \n",
      " 2   online_spend   365 non-null    float64       \n",
      "dtypes: datetime64[ns](1), float64(1), int64(1)\n",
      "memory usage: 8.7 KB\n"
     ]
    },
    {
     "data": {
      "text/html": [
       "<div>\n",
       "<style scoped>\n",
       "    .dataframe tbody tr th:only-of-type {\n",
       "        vertical-align: middle;\n",
       "    }\n",
       "\n",
       "    .dataframe tbody tr th {\n",
       "        vertical-align: top;\n",
       "    }\n",
       "\n",
       "    .dataframe thead th {\n",
       "        text-align: right;\n",
       "    }\n",
       "</style>\n",
       "<table border=\"1\" class=\"dataframe\">\n",
       "  <thead>\n",
       "    <tr style=\"text-align: right;\">\n",
       "      <th></th>\n",
       "      <th>date</th>\n",
       "      <th>offline_spend</th>\n",
       "      <th>online_spend</th>\n",
       "    </tr>\n",
       "  </thead>\n",
       "  <tbody>\n",
       "    <tr>\n",
       "      <th>0</th>\n",
       "      <td>2019-01-01</td>\n",
       "      <td>4500</td>\n",
       "      <td>2424.50</td>\n",
       "    </tr>\n",
       "    <tr>\n",
       "      <th>1</th>\n",
       "      <td>2019-02-01</td>\n",
       "      <td>4500</td>\n",
       "      <td>3480.36</td>\n",
       "    </tr>\n",
       "    <tr>\n",
       "      <th>2</th>\n",
       "      <td>2019-03-01</td>\n",
       "      <td>4500</td>\n",
       "      <td>1576.38</td>\n",
       "    </tr>\n",
       "    <tr>\n",
       "      <th>3</th>\n",
       "      <td>2019-04-01</td>\n",
       "      <td>4500</td>\n",
       "      <td>2928.55</td>\n",
       "    </tr>\n",
       "    <tr>\n",
       "      <th>4</th>\n",
       "      <td>2019-05-01</td>\n",
       "      <td>4500</td>\n",
       "      <td>4055.30</td>\n",
       "    </tr>\n",
       "  </tbody>\n",
       "</table>\n",
       "</div>"
      ],
      "text/plain": [
       "        date  offline_spend  online_spend\n",
       "0 2019-01-01  4500           2424.50     \n",
       "1 2019-02-01  4500           3480.36     \n",
       "2 2019-03-01  4500           1576.38     \n",
       "3 2019-04-01  4500           2928.55     \n",
       "4 2019-05-01  4500           4055.30     "
      ]
     },
     "execution_count": 4,
     "metadata": {},
     "output_type": "execute_result"
    }
   ],
   "source": [
    "df_marketing = pd.read_csv(os.path.join(path_to_processed_data, file_marketing_tbl))\n",
    "df_marketing['date'] = pd.to_datetime(df_marketing['date'])\n",
    "df_marketing.info()\n",
    "df_marketing.head()"
   ]
  },
  {
   "cell_type": "markdown",
   "metadata": {},
   "source": [
    "Because we only have online sales data, we do not include the `offline_spend`\n",
    "column in our analysis.\n"
   ]
  },
  {
   "cell_type": "markdown",
   "metadata": {},
   "source": [
    "## Customer Analytical table creation\n"
   ]
  },
  {
   "cell_type": "code",
   "execution_count": 5,
   "metadata": {},
   "outputs": [],
   "source": [
    "at_sales = df_sales.groupby(['transaction_month', 'transaction_date', 'customer_id']).agg({\n",
    "    'transaction_id': 'nunique'\n",
    "    ,'product_category': 'nunique'\n",
    "    ,'product_sku': 'nunique'\n",
    "    ,'quantity': 'sum'    \n",
    "    ,'delivery_charges': 'sum'\n",
    "    ,'discount_amount': 'sum'\n",
    "    ,'total_amount': 'sum'\n",
    "    ,'is_coupon_status_used': 'sum'\n",
    "})\\\n",
    "    .reset_index()\\\n",
    "        .sort_values(by='transaction_date', ascending=True)\\\n",
    "            .rename(columns={\n",
    "                'transaction_id': 'transactions_cntd'\n",
    "                ,'product_category': 'product_category_cntd'\n",
    "                ,'product_sku': 'products_cntd'\n",
    "                ,'quantity': 'quantity_sum'                \n",
    "                ,'delivery_charges': 'delivery_charges_sum'\n",
    "                ,'discount_amount': 'discount_amount_sum'\n",
    "                ,'total_amount': 'total_amount_sum'\n",
    "                ,'is_coupon_status_used': 'coupons_used'\n",
    "            })"
   ]
  },
  {
   "cell_type": "markdown",
   "metadata": {},
   "source": [
    "#### Validate data after aggregating by checking control sum\n"
   ]
  },
  {
   "cell_type": "code",
   "execution_count": 6,
   "metadata": {},
   "outputs": [
    {
     "data": {
      "text/plain": [
       "3645802.5700000003"
      ]
     },
     "execution_count": 6,
     "metadata": {},
     "output_type": "execute_result"
    },
    {
     "data": {
      "text/plain": [
       "3645802.5700000003"
      ]
     },
     "execution_count": 6,
     "metadata": {},
     "output_type": "execute_result"
    },
    {
     "data": {
      "text/plain": [
       "99627"
      ]
     },
     "execution_count": 6,
     "metadata": {},
     "output_type": "execute_result"
    },
    {
     "data": {
      "text/plain": [
       "99627"
      ]
     },
     "execution_count": 6,
     "metadata": {},
     "output_type": "execute_result"
    },
    {
     "data": {
      "text/plain": [
       "26631"
      ]
     },
     "execution_count": 6,
     "metadata": {},
     "output_type": "execute_result"
    },
    {
     "data": {
      "text/plain": [
       "26631"
      ]
     },
     "execution_count": 6,
     "metadata": {},
     "output_type": "execute_result"
    }
   ],
   "source": [
    "df_sales['total_amount'].sum()\n",
    "at_sales['total_amount_sum'].sum()\n",
    "\n",
    "df_sales['quantity'].sum()\n",
    "at_sales['quantity_sum'].sum()\n",
    "\n",
    "df_sales['transaction_id'].nunique()\n",
    "at_sales['transactions_cntd'].sum()"
   ]
  },
  {
   "cell_type": "code",
   "execution_count": 7,
   "metadata": {},
   "outputs": [
    {
     "name": "stdout",
     "output_type": "stream",
     "text": [
      "<class 'pandas.core.frame.DataFrame'>\n",
      "Index: 3208 entries, 0 to 3207\n",
      "Data columns (total 11 columns):\n",
      " #   Column                 Non-Null Count  Dtype         \n",
      "---  ------                 --------------  -----         \n",
      " 0   transaction_month      3208 non-null   datetime64[ns]\n",
      " 1   transaction_date       3208 non-null   datetime64[ns]\n",
      " 2   customer_id            3208 non-null   int64         \n",
      " 3   transactions_cntd      3208 non-null   int64         \n",
      " 4   product_category_cntd  3208 non-null   int64         \n",
      " 5   products_cntd          3208 non-null   int64         \n",
      " 6   quantity_sum           3208 non-null   int64         \n",
      " 7   delivery_charges_sum   3208 non-null   float64       \n",
      " 8   discount_amount_sum    3208 non-null   float64       \n",
      " 9   total_amount_sum       3208 non-null   float64       \n",
      " 10  coupons_used           3208 non-null   int64         \n",
      "dtypes: datetime64[ns](2), float64(3), int64(6)\n",
      "memory usage: 300.8 KB\n"
     ]
    }
   ],
   "source": [
    "at_sales.info() # "
   ]
  },
  {
   "cell_type": "markdown",
   "metadata": {},
   "source": [
    "#### Add the first and the last transaction dates\n"
   ]
  },
  {
   "cell_type": "code",
   "execution_count": 8,
   "metadata": {},
   "outputs": [],
   "source": [
    "at_sales['first_transaction_date'] = at_sales.groupby(['customer_id'])['transaction_date'].transform('min')\n",
    "at_sales['last_transaction_date'] = at_sales.groupby(['customer_id'])['transaction_date'].transform('max')"
   ]
  },
  {
   "cell_type": "markdown",
   "metadata": {},
   "source": [
    "#### Add indicators of the first and the last customer activities\n"
   ]
  },
  {
   "cell_type": "code",
   "execution_count": 9,
   "metadata": {},
   "outputs": [],
   "source": [
    "at_sales['is_new_user'] = ( at_sales['first_transaction_date']==at_sales['transaction_date'] ) * 1\n",
    "at_sales['is_last_purchase'] = ( at_sales['last_transaction_date']==at_sales['transaction_date'] ) * 1"
   ]
  },
  {
   "cell_type": "code",
   "execution_count": 10,
   "metadata": {},
   "outputs": [
    {
     "data": {
      "text/html": [
       "<div>\n",
       "<style scoped>\n",
       "    .dataframe tbody tr th:only-of-type {\n",
       "        vertical-align: middle;\n",
       "    }\n",
       "\n",
       "    .dataframe tbody tr th {\n",
       "        vertical-align: top;\n",
       "    }\n",
       "\n",
       "    .dataframe thead th {\n",
       "        text-align: right;\n",
       "    }\n",
       "</style>\n",
       "<table border=\"1\" class=\"dataframe\">\n",
       "  <thead>\n",
       "    <tr style=\"text-align: right;\">\n",
       "      <th></th>\n",
       "      <th>transaction_month</th>\n",
       "      <th>transaction_date</th>\n",
       "      <th>customer_id</th>\n",
       "      <th>transactions_cntd</th>\n",
       "      <th>product_category_cntd</th>\n",
       "      <th>products_cntd</th>\n",
       "      <th>quantity_sum</th>\n",
       "      <th>delivery_charges_sum</th>\n",
       "      <th>discount_amount_sum</th>\n",
       "      <th>total_amount_sum</th>\n",
       "      <th>coupons_used</th>\n",
       "      <th>first_transaction_date</th>\n",
       "      <th>last_transaction_date</th>\n",
       "      <th>is_new_user</th>\n",
       "      <th>is_last_purchase</th>\n",
       "    </tr>\n",
       "  </thead>\n",
       "  <tbody>\n",
       "    <tr>\n",
       "      <th>929</th>\n",
       "      <td>2019-04-01</td>\n",
       "      <td>2019-04-21</td>\n",
       "      <td>14713</td>\n",
       "      <td>14</td>\n",
       "      <td>5</td>\n",
       "      <td>20</td>\n",
       "      <td>54</td>\n",
       "      <td>171.47</td>\n",
       "      <td>134.497</td>\n",
       "      <td>2557.483</td>\n",
       "      <td>8</td>\n",
       "      <td>2019-04-21</td>\n",
       "      <td>2019-09-30</td>\n",
       "      <td>1</td>\n",
       "      <td>0</td>\n",
       "    </tr>\n",
       "    <tr>\n",
       "      <th>1503</th>\n",
       "      <td>2019-06-01</td>\n",
       "      <td>2019-06-23</td>\n",
       "      <td>14713</td>\n",
       "      <td>12</td>\n",
       "      <td>6</td>\n",
       "      <td>16</td>\n",
       "      <td>32</td>\n",
       "      <td>148.74</td>\n",
       "      <td>240.003</td>\n",
       "      <td>1164.147</td>\n",
       "      <td>10</td>\n",
       "      <td>2019-04-21</td>\n",
       "      <td>2019-09-30</td>\n",
       "      <td>0</td>\n",
       "      <td>0</td>\n",
       "    </tr>\n",
       "    <tr>\n",
       "      <th>2414</th>\n",
       "      <td>2019-09-01</td>\n",
       "      <td>2019-09-30</td>\n",
       "      <td>14713</td>\n",
       "      <td>23</td>\n",
       "      <td>6</td>\n",
       "      <td>21</td>\n",
       "      <td>71</td>\n",
       "      <td>412.58</td>\n",
       "      <td>139.095</td>\n",
       "      <td>3390.955</td>\n",
       "      <td>13</td>\n",
       "      <td>2019-04-21</td>\n",
       "      <td>2019-09-30</td>\n",
       "      <td>0</td>\n",
       "      <td>1</td>\n",
       "    </tr>\n",
       "  </tbody>\n",
       "</table>\n",
       "</div>"
      ],
      "text/plain": [
       "     transaction_month transaction_date  customer_id  transactions_cntd   \n",
       "929  2019-04-01        2019-04-21        14713        14                 \\\n",
       "1503 2019-06-01        2019-06-23        14713        12                  \n",
       "2414 2019-09-01        2019-09-30        14713        23                  \n",
       "\n",
       "      product_category_cntd  products_cntd  quantity_sum   \n",
       "929   5                      20             54            \\\n",
       "1503  6                      16             32             \n",
       "2414  6                      21             71             \n",
       "\n",
       "      delivery_charges_sum  discount_amount_sum  total_amount_sum   \n",
       "929   171.47                134.497              2557.483          \\\n",
       "1503  148.74                240.003              1164.147           \n",
       "2414  412.58                139.095              3390.955           \n",
       "\n",
       "      coupons_used first_transaction_date last_transaction_date  is_new_user   \n",
       "929   8            2019-04-21             2019-09-30             1            \\\n",
       "1503  10           2019-04-21             2019-09-30             0             \n",
       "2414  13           2019-04-21             2019-09-30             0             \n",
       "\n",
       "      is_last_purchase  \n",
       "929   0                 \n",
       "1503  0                 \n",
       "2414  1                 "
      ]
     },
     "execution_count": 10,
     "metadata": {},
     "output_type": "execute_result"
    }
   ],
   "source": [
    "at_sales[at_sales['customer_id'] == 14713].sort_values(by='transaction_date')"
   ]
  },
  {
   "cell_type": "markdown",
   "metadata": {},
   "source": [
    "Generally, an order may encompass one or more transactions. Each transaction is\n",
    "a record of an action that is taken on an order. However, the `order ID` is not\n",
    "presented in the datasets.\n",
    "\n",
    "Therefore, in the Exploratory Data Analysis we will consider the average\n",
    "transaction cost, average quantity items per transaction, ets\n"
   ]
  },
  {
   "cell_type": "markdown",
   "metadata": {},
   "source": [
    "## Product Data Analysis\n",
    "\n",
    "_We will utilize various data analytics metrics to extract valuable information\n",
    "from the available data. To accomplish this, we will generate a report with\n",
    "monthly-level aggregation._\n"
   ]
  },
  {
   "cell_type": "markdown",
   "metadata": {},
   "source": [
    "### Preparing report\n"
   ]
  },
  {
   "cell_type": "code",
   "execution_count": 11,
   "metadata": {},
   "outputs": [
    {
     "data": {
      "text/html": [
       "<div>\n",
       "<style scoped>\n",
       "    .dataframe tbody tr th:only-of-type {\n",
       "        vertical-align: middle;\n",
       "    }\n",
       "\n",
       "    .dataframe tbody tr th {\n",
       "        vertical-align: top;\n",
       "    }\n",
       "\n",
       "    .dataframe thead th {\n",
       "        text-align: right;\n",
       "    }\n",
       "</style>\n",
       "<table border=\"1\" class=\"dataframe\">\n",
       "  <thead>\n",
       "    <tr style=\"text-align: right;\">\n",
       "      <th></th>\n",
       "      <th>month</th>\n",
       "      <th>num_customers</th>\n",
       "      <th>num_transactions</th>\n",
       "      <th>quantity_items_sold</th>\n",
       "      <th>delivery_charges_sum</th>\n",
       "      <th>discount_amount_sum</th>\n",
       "      <th>total_amount_sum</th>\n",
       "      <th>num_coupons_used</th>\n",
       "      <th>num_new_users</th>\n",
       "    </tr>\n",
       "  </thead>\n",
       "  <tbody>\n",
       "    <tr>\n",
       "      <th>0</th>\n",
       "      <td>2019-01-01</td>\n",
       "      <td>232</td>\n",
       "      <td>2190</td>\n",
       "      <td>8161</td>\n",
       "      <td>53423.20</td>\n",
       "      <td>8515.453</td>\n",
       "      <td>305718.147</td>\n",
       "      <td>1434</td>\n",
       "      <td>232</td>\n",
       "    </tr>\n",
       "    <tr>\n",
       "      <th>1</th>\n",
       "      <td>2019-02-01</td>\n",
       "      <td>141</td>\n",
       "      <td>1813</td>\n",
       "      <td>6734</td>\n",
       "      <td>47453.10</td>\n",
       "      <td>15638.496</td>\n",
       "      <td>276769.684</td>\n",
       "      <td>1189</td>\n",
       "      <td>114</td>\n",
       "    </tr>\n",
       "    <tr>\n",
       "      <th>2</th>\n",
       "      <td>2019-03-01</td>\n",
       "      <td>229</td>\n",
       "      <td>2207</td>\n",
       "      <td>9023</td>\n",
       "      <td>54951.94</td>\n",
       "      <td>31110.072</td>\n",
       "      <td>307172.668</td>\n",
       "      <td>1510</td>\n",
       "      <td>166</td>\n",
       "    </tr>\n",
       "    <tr>\n",
       "      <th>3</th>\n",
       "      <td>2019-04-01</td>\n",
       "      <td>236</td>\n",
       "      <td>2113</td>\n",
       "      <td>8022</td>\n",
       "      <td>41451.19</td>\n",
       "      <td>9007.977</td>\n",
       "      <td>301089.883</td>\n",
       "      <td>1457</td>\n",
       "      <td>151</td>\n",
       "    </tr>\n",
       "    <tr>\n",
       "      <th>4</th>\n",
       "      <td>2019-05-01</td>\n",
       "      <td>236</td>\n",
       "      <td>2120</td>\n",
       "      <td>8262</td>\n",
       "      <td>40364.35</td>\n",
       "      <td>17096.238</td>\n",
       "      <td>280802.552</td>\n",
       "      <td>1423</td>\n",
       "      <td>119</td>\n",
       "    </tr>\n",
       "    <tr>\n",
       "      <th>5</th>\n",
       "      <td>2019-06-01</td>\n",
       "      <td>254</td>\n",
       "      <td>2194</td>\n",
       "      <td>8170</td>\n",
       "      <td>43052.44</td>\n",
       "      <td>28288.458</td>\n",
       "      <td>298113.802</td>\n",
       "      <td>1519</td>\n",
       "      <td>140</td>\n",
       "    </tr>\n",
       "    <tr>\n",
       "      <th>6</th>\n",
       "      <td>2019-07-01</td>\n",
       "      <td>252</td>\n",
       "      <td>2359</td>\n",
       "      <td>10806</td>\n",
       "      <td>55435.80</td>\n",
       "      <td>10286.504</td>\n",
       "      <td>349513.636</td>\n",
       "      <td>1890</td>\n",
       "      <td>100</td>\n",
       "    </tr>\n",
       "    <tr>\n",
       "      <th>7</th>\n",
       "      <td>2019-08-01</td>\n",
       "      <td>276</td>\n",
       "      <td>2420</td>\n",
       "      <td>9389</td>\n",
       "      <td>49014.73</td>\n",
       "      <td>18399.580</td>\n",
       "      <td>298456.990</td>\n",
       "      <td>1796</td>\n",
       "      <td>116</td>\n",
       "    </tr>\n",
       "    <tr>\n",
       "      <th>8</th>\n",
       "      <td>2019-09-01</td>\n",
       "      <td>195</td>\n",
       "      <td>2108</td>\n",
       "      <td>8035</td>\n",
       "      <td>44077.33</td>\n",
       "      <td>25545.582</td>\n",
       "      <td>271918.008</td>\n",
       "      <td>1407</td>\n",
       "      <td>77</td>\n",
       "    </tr>\n",
       "    <tr>\n",
       "      <th>9</th>\n",
       "      <td>2019-10-01</td>\n",
       "      <td>210</td>\n",
       "      <td>2095</td>\n",
       "      <td>7808</td>\n",
       "      <td>49499.20</td>\n",
       "      <td>8986.311</td>\n",
       "      <td>310779.799</td>\n",
       "      <td>1318</td>\n",
       "      <td>89</td>\n",
       "    </tr>\n",
       "    <tr>\n",
       "      <th>10</th>\n",
       "      <td>2019-11-01</td>\n",
       "      <td>214</td>\n",
       "      <td>2527</td>\n",
       "      <td>8063</td>\n",
       "      <td>38923.16</td>\n",
       "      <td>23710.300</td>\n",
       "      <td>363768.530</td>\n",
       "      <td>1533</td>\n",
       "      <td>66</td>\n",
       "    </tr>\n",
       "    <tr>\n",
       "      <th>11</th>\n",
       "      <td>2019-12-01</td>\n",
       "      <td>245</td>\n",
       "      <td>2485</td>\n",
       "      <td>7154</td>\n",
       "      <td>38988.63</td>\n",
       "      <td>26362.809</td>\n",
       "      <td>281698.871</td>\n",
       "      <td>1428</td>\n",
       "      <td>98</td>\n",
       "    </tr>\n",
       "  </tbody>\n",
       "</table>\n",
       "</div>"
      ],
      "text/plain": [
       "        month  num_customers  num_transactions  quantity_items_sold   \n",
       "0  2019-01-01  232            2190              8161                 \\\n",
       "1  2019-02-01  141            1813              6734                  \n",
       "2  2019-03-01  229            2207              9023                  \n",
       "3  2019-04-01  236            2113              8022                  \n",
       "4  2019-05-01  236            2120              8262                  \n",
       "5  2019-06-01  254            2194              8170                  \n",
       "6  2019-07-01  252            2359              10806                 \n",
       "7  2019-08-01  276            2420              9389                  \n",
       "8  2019-09-01  195            2108              8035                  \n",
       "9  2019-10-01  210            2095              7808                  \n",
       "10 2019-11-01  214            2527              8063                  \n",
       "11 2019-12-01  245            2485              7154                  \n",
       "\n",
       "    delivery_charges_sum  discount_amount_sum  total_amount_sum   \n",
       "0   53423.20              8515.453             305718.147        \\\n",
       "1   47453.10              15638.496            276769.684         \n",
       "2   54951.94              31110.072            307172.668         \n",
       "3   41451.19              9007.977             301089.883         \n",
       "4   40364.35              17096.238            280802.552         \n",
       "5   43052.44              28288.458            298113.802         \n",
       "6   55435.80              10286.504            349513.636         \n",
       "7   49014.73              18399.580            298456.990         \n",
       "8   44077.33              25545.582            271918.008         \n",
       "9   49499.20              8986.311             310779.799         \n",
       "10  38923.16              23710.300            363768.530         \n",
       "11  38988.63              26362.809            281698.871         \n",
       "\n",
       "    num_coupons_used  num_new_users  \n",
       "0   1434              232            \n",
       "1   1189              114            \n",
       "2   1510              166            \n",
       "3   1457              151            \n",
       "4   1423              119            \n",
       "5   1519              140            \n",
       "6   1890              100            \n",
       "7   1796              116            \n",
       "8   1407              77             \n",
       "9   1318              89             \n",
       "10  1533              66             \n",
       "11  1428              98             "
      ]
     },
     "execution_count": 11,
     "metadata": {},
     "output_type": "execute_result"
    }
   ],
   "source": [
    "report = at_sales.groupby(['transaction_month']).agg({\n",
    "    'customer_id': 'nunique'\n",
    "    ,'transactions_cntd': 'sum' \n",
    "    ,'quantity_sum': 'sum'\n",
    "    ,'delivery_charges_sum': 'sum'\n",
    "    ,'discount_amount_sum': 'sum'\n",
    "    ,'total_amount_sum': 'sum'\n",
    "    ,'coupons_used': 'sum'\n",
    "    ,'is_new_user': 'sum'\n",
    "})\\\n",
    "    .reset_index()\\\n",
    "        .sort_values(by='transaction_month', ascending=True)\\\n",
    "            .rename(columns={\n",
    "    'transaction_month': 'month'\n",
    "    ,'customer_id': 'num_customers'\n",
    "    ,'transactions_cntd': 'num_transactions' \n",
    "    ,'quantity_sum': 'quantity_items_sold'\n",
    "    ,'delivery_charges_sum': 'delivery_charges_sum'\n",
    "    ,'discount_amount_sum': 'discount_amount_sum'\n",
    "    ,'total_amount_sum': 'total_amount_sum'\n",
    "    ,'coupons_used': 'num_coupons_used'\n",
    "    ,'is_new_user': 'num_new_users'\n",
    "})\n",
    "            \n",
    "report"
   ]
  },
  {
   "cell_type": "markdown",
   "metadata": {},
   "source": [
    "Validating the aggregation result\n"
   ]
  },
  {
   "cell_type": "code",
   "execution_count": 12,
   "metadata": {},
   "outputs": [
    {
     "data": {
      "text/plain": [
       "3645802.5700000003"
      ]
     },
     "execution_count": 12,
     "metadata": {},
     "output_type": "execute_result"
    },
    {
     "data": {
      "text/plain": [
       "3645802.57"
      ]
     },
     "execution_count": 12,
     "metadata": {},
     "output_type": "execute_result"
    },
    {
     "data": {
      "text/plain": [
       "99627"
      ]
     },
     "execution_count": 12,
     "metadata": {},
     "output_type": "execute_result"
    },
    {
     "data": {
      "text/plain": [
       "99627"
      ]
     },
     "execution_count": 12,
     "metadata": {},
     "output_type": "execute_result"
    },
    {
     "data": {
      "text/plain": [
       "26631"
      ]
     },
     "execution_count": 12,
     "metadata": {},
     "output_type": "execute_result"
    },
    {
     "data": {
      "text/plain": [
       "26631"
      ]
     },
     "execution_count": 12,
     "metadata": {},
     "output_type": "execute_result"
    }
   ],
   "source": [
    "df_sales['total_amount'].sum()\n",
    "report['total_amount_sum'].sum()\n",
    "\n",
    "df_sales['quantity'].sum()\n",
    "report['quantity_items_sold'].sum()\n",
    "\n",
    "df_sales['transaction_id'].nunique()\n",
    "report['num_transactions'].sum()"
   ]
  },
  {
   "cell_type": "markdown",
   "metadata": {},
   "source": [
    "### Add to the report number of unique categories and unique product_sku sold\n"
   ]
  },
  {
   "cell_type": "code",
   "execution_count": 13,
   "metadata": {},
   "outputs": [
    {
     "data": {
      "text/html": [
       "<div>\n",
       "<style scoped>\n",
       "    .dataframe tbody tr th:only-of-type {\n",
       "        vertical-align: middle;\n",
       "    }\n",
       "\n",
       "    .dataframe tbody tr th {\n",
       "        vertical-align: top;\n",
       "    }\n",
       "\n",
       "    .dataframe thead th {\n",
       "        text-align: right;\n",
       "    }\n",
       "</style>\n",
       "<table border=\"1\" class=\"dataframe\">\n",
       "  <thead>\n",
       "    <tr style=\"text-align: right;\">\n",
       "      <th></th>\n",
       "      <th>month</th>\n",
       "      <th>num_products_unique</th>\n",
       "      <th>num_categories_unique</th>\n",
       "    </tr>\n",
       "  </thead>\n",
       "  <tbody>\n",
       "    <tr>\n",
       "      <th>0</th>\n",
       "      <td>2019-01-01</td>\n",
       "      <td>647</td>\n",
       "      <td>20</td>\n",
       "    </tr>\n",
       "    <tr>\n",
       "      <th>1</th>\n",
       "      <td>2019-02-01</td>\n",
       "      <td>638</td>\n",
       "      <td>20</td>\n",
       "    </tr>\n",
       "    <tr>\n",
       "      <th>2</th>\n",
       "      <td>2019-03-01</td>\n",
       "      <td>727</td>\n",
       "      <td>20</td>\n",
       "    </tr>\n",
       "    <tr>\n",
       "      <th>3</th>\n",
       "      <td>2019-04-01</td>\n",
       "      <td>697</td>\n",
       "      <td>19</td>\n",
       "    </tr>\n",
       "    <tr>\n",
       "      <th>4</th>\n",
       "      <td>2019-05-01</td>\n",
       "      <td>705</td>\n",
       "      <td>20</td>\n",
       "    </tr>\n",
       "    <tr>\n",
       "      <th>5</th>\n",
       "      <td>2019-06-01</td>\n",
       "      <td>714</td>\n",
       "      <td>20</td>\n",
       "    </tr>\n",
       "    <tr>\n",
       "      <th>6</th>\n",
       "      <td>2019-07-01</td>\n",
       "      <td>728</td>\n",
       "      <td>20</td>\n",
       "    </tr>\n",
       "    <tr>\n",
       "      <th>7</th>\n",
       "      <td>2019-08-01</td>\n",
       "      <td>599</td>\n",
       "      <td>19</td>\n",
       "    </tr>\n",
       "    <tr>\n",
       "      <th>8</th>\n",
       "      <td>2019-09-01</td>\n",
       "      <td>593</td>\n",
       "      <td>20</td>\n",
       "    </tr>\n",
       "    <tr>\n",
       "      <th>9</th>\n",
       "      <td>2019-10-01</td>\n",
       "      <td>561</td>\n",
       "      <td>20</td>\n",
       "    </tr>\n",
       "    <tr>\n",
       "      <th>10</th>\n",
       "      <td>2019-11-01</td>\n",
       "      <td>569</td>\n",
       "      <td>19</td>\n",
       "    </tr>\n",
       "    <tr>\n",
       "      <th>11</th>\n",
       "      <td>2019-12-01</td>\n",
       "      <td>579</td>\n",
       "      <td>19</td>\n",
       "    </tr>\n",
       "  </tbody>\n",
       "</table>\n",
       "</div>"
      ],
      "text/plain": [
       "        month  num_products_unique  num_categories_unique\n",
       "0  2019-01-01  647                  20                   \n",
       "1  2019-02-01  638                  20                   \n",
       "2  2019-03-01  727                  20                   \n",
       "3  2019-04-01  697                  19                   \n",
       "4  2019-05-01  705                  20                   \n",
       "5  2019-06-01  714                  20                   \n",
       "6  2019-07-01  728                  20                   \n",
       "7  2019-08-01  599                  19                   \n",
       "8  2019-09-01  593                  20                   \n",
       "9  2019-10-01  561                  20                   \n",
       "10 2019-11-01  569                  19                   \n",
       "11 2019-12-01  579                  19                   "
      ]
     },
     "execution_count": 13,
     "metadata": {},
     "output_type": "execute_result"
    }
   ],
   "source": [
    "df_products = df_sales.groupby(['transaction_month']).agg({\n",
    "    'product_sku': 'nunique'\n",
    "    ,'product_category': 'nunique'    \n",
    "})\\\n",
    "    .reset_index()\\\n",
    "        .sort_values(by='transaction_month', ascending=True)\\\n",
    "            .rename(columns={\n",
    "                'transaction_month': 'month'\n",
    "                ,'product_sku': 'num_products_unique'\n",
    "                ,'product_category': 'num_categories_unique'                ,\n",
    "            })\n",
    "df_products"
   ]
  },
  {
   "cell_type": "code",
   "execution_count": 14,
   "metadata": {},
   "outputs": [
    {
     "data": {
      "text/html": [
       "<div>\n",
       "<style scoped>\n",
       "    .dataframe tbody tr th:only-of-type {\n",
       "        vertical-align: middle;\n",
       "    }\n",
       "\n",
       "    .dataframe tbody tr th {\n",
       "        vertical-align: top;\n",
       "    }\n",
       "\n",
       "    .dataframe thead th {\n",
       "        text-align: right;\n",
       "    }\n",
       "</style>\n",
       "<table border=\"1\" class=\"dataframe\">\n",
       "  <thead>\n",
       "    <tr style=\"text-align: right;\">\n",
       "      <th></th>\n",
       "      <th>month</th>\n",
       "      <th>num_customers</th>\n",
       "      <th>num_transactions</th>\n",
       "      <th>quantity_items_sold</th>\n",
       "      <th>delivery_charges_sum</th>\n",
       "      <th>discount_amount_sum</th>\n",
       "      <th>total_amount_sum</th>\n",
       "      <th>num_coupons_used</th>\n",
       "      <th>num_new_users</th>\n",
       "      <th>num_products_unique</th>\n",
       "      <th>num_categories_unique</th>\n",
       "    </tr>\n",
       "  </thead>\n",
       "  <tbody>\n",
       "    <tr>\n",
       "      <th>0</th>\n",
       "      <td>2019-01-01</td>\n",
       "      <td>232</td>\n",
       "      <td>2190</td>\n",
       "      <td>8161</td>\n",
       "      <td>53423.20</td>\n",
       "      <td>8515.453</td>\n",
       "      <td>305718.147</td>\n",
       "      <td>1434</td>\n",
       "      <td>232</td>\n",
       "      <td>647</td>\n",
       "      <td>20</td>\n",
       "    </tr>\n",
       "    <tr>\n",
       "      <th>1</th>\n",
       "      <td>2019-02-01</td>\n",
       "      <td>141</td>\n",
       "      <td>1813</td>\n",
       "      <td>6734</td>\n",
       "      <td>47453.10</td>\n",
       "      <td>15638.496</td>\n",
       "      <td>276769.684</td>\n",
       "      <td>1189</td>\n",
       "      <td>114</td>\n",
       "      <td>638</td>\n",
       "      <td>20</td>\n",
       "    </tr>\n",
       "    <tr>\n",
       "      <th>2</th>\n",
       "      <td>2019-03-01</td>\n",
       "      <td>229</td>\n",
       "      <td>2207</td>\n",
       "      <td>9023</td>\n",
       "      <td>54951.94</td>\n",
       "      <td>31110.072</td>\n",
       "      <td>307172.668</td>\n",
       "      <td>1510</td>\n",
       "      <td>166</td>\n",
       "      <td>727</td>\n",
       "      <td>20</td>\n",
       "    </tr>\n",
       "    <tr>\n",
       "      <th>3</th>\n",
       "      <td>2019-04-01</td>\n",
       "      <td>236</td>\n",
       "      <td>2113</td>\n",
       "      <td>8022</td>\n",
       "      <td>41451.19</td>\n",
       "      <td>9007.977</td>\n",
       "      <td>301089.883</td>\n",
       "      <td>1457</td>\n",
       "      <td>151</td>\n",
       "      <td>697</td>\n",
       "      <td>19</td>\n",
       "    </tr>\n",
       "    <tr>\n",
       "      <th>4</th>\n",
       "      <td>2019-05-01</td>\n",
       "      <td>236</td>\n",
       "      <td>2120</td>\n",
       "      <td>8262</td>\n",
       "      <td>40364.35</td>\n",
       "      <td>17096.238</td>\n",
       "      <td>280802.552</td>\n",
       "      <td>1423</td>\n",
       "      <td>119</td>\n",
       "      <td>705</td>\n",
       "      <td>20</td>\n",
       "    </tr>\n",
       "    <tr>\n",
       "      <th>5</th>\n",
       "      <td>2019-06-01</td>\n",
       "      <td>254</td>\n",
       "      <td>2194</td>\n",
       "      <td>8170</td>\n",
       "      <td>43052.44</td>\n",
       "      <td>28288.458</td>\n",
       "      <td>298113.802</td>\n",
       "      <td>1519</td>\n",
       "      <td>140</td>\n",
       "      <td>714</td>\n",
       "      <td>20</td>\n",
       "    </tr>\n",
       "    <tr>\n",
       "      <th>6</th>\n",
       "      <td>2019-07-01</td>\n",
       "      <td>252</td>\n",
       "      <td>2359</td>\n",
       "      <td>10806</td>\n",
       "      <td>55435.80</td>\n",
       "      <td>10286.504</td>\n",
       "      <td>349513.636</td>\n",
       "      <td>1890</td>\n",
       "      <td>100</td>\n",
       "      <td>728</td>\n",
       "      <td>20</td>\n",
       "    </tr>\n",
       "    <tr>\n",
       "      <th>7</th>\n",
       "      <td>2019-08-01</td>\n",
       "      <td>276</td>\n",
       "      <td>2420</td>\n",
       "      <td>9389</td>\n",
       "      <td>49014.73</td>\n",
       "      <td>18399.580</td>\n",
       "      <td>298456.990</td>\n",
       "      <td>1796</td>\n",
       "      <td>116</td>\n",
       "      <td>599</td>\n",
       "      <td>19</td>\n",
       "    </tr>\n",
       "    <tr>\n",
       "      <th>8</th>\n",
       "      <td>2019-09-01</td>\n",
       "      <td>195</td>\n",
       "      <td>2108</td>\n",
       "      <td>8035</td>\n",
       "      <td>44077.33</td>\n",
       "      <td>25545.582</td>\n",
       "      <td>271918.008</td>\n",
       "      <td>1407</td>\n",
       "      <td>77</td>\n",
       "      <td>593</td>\n",
       "      <td>20</td>\n",
       "    </tr>\n",
       "    <tr>\n",
       "      <th>9</th>\n",
       "      <td>2019-10-01</td>\n",
       "      <td>210</td>\n",
       "      <td>2095</td>\n",
       "      <td>7808</td>\n",
       "      <td>49499.20</td>\n",
       "      <td>8986.311</td>\n",
       "      <td>310779.799</td>\n",
       "      <td>1318</td>\n",
       "      <td>89</td>\n",
       "      <td>561</td>\n",
       "      <td>20</td>\n",
       "    </tr>\n",
       "    <tr>\n",
       "      <th>10</th>\n",
       "      <td>2019-11-01</td>\n",
       "      <td>214</td>\n",
       "      <td>2527</td>\n",
       "      <td>8063</td>\n",
       "      <td>38923.16</td>\n",
       "      <td>23710.300</td>\n",
       "      <td>363768.530</td>\n",
       "      <td>1533</td>\n",
       "      <td>66</td>\n",
       "      <td>569</td>\n",
       "      <td>19</td>\n",
       "    </tr>\n",
       "    <tr>\n",
       "      <th>11</th>\n",
       "      <td>2019-12-01</td>\n",
       "      <td>245</td>\n",
       "      <td>2485</td>\n",
       "      <td>7154</td>\n",
       "      <td>38988.63</td>\n",
       "      <td>26362.809</td>\n",
       "      <td>281698.871</td>\n",
       "      <td>1428</td>\n",
       "      <td>98</td>\n",
       "      <td>579</td>\n",
       "      <td>19</td>\n",
       "    </tr>\n",
       "  </tbody>\n",
       "</table>\n",
       "</div>"
      ],
      "text/plain": [
       "        month  num_customers  num_transactions  quantity_items_sold   \n",
       "0  2019-01-01  232            2190              8161                 \\\n",
       "1  2019-02-01  141            1813              6734                  \n",
       "2  2019-03-01  229            2207              9023                  \n",
       "3  2019-04-01  236            2113              8022                  \n",
       "4  2019-05-01  236            2120              8262                  \n",
       "5  2019-06-01  254            2194              8170                  \n",
       "6  2019-07-01  252            2359              10806                 \n",
       "7  2019-08-01  276            2420              9389                  \n",
       "8  2019-09-01  195            2108              8035                  \n",
       "9  2019-10-01  210            2095              7808                  \n",
       "10 2019-11-01  214            2527              8063                  \n",
       "11 2019-12-01  245            2485              7154                  \n",
       "\n",
       "    delivery_charges_sum  discount_amount_sum  total_amount_sum   \n",
       "0   53423.20              8515.453             305718.147        \\\n",
       "1   47453.10              15638.496            276769.684         \n",
       "2   54951.94              31110.072            307172.668         \n",
       "3   41451.19              9007.977             301089.883         \n",
       "4   40364.35              17096.238            280802.552         \n",
       "5   43052.44              28288.458            298113.802         \n",
       "6   55435.80              10286.504            349513.636         \n",
       "7   49014.73              18399.580            298456.990         \n",
       "8   44077.33              25545.582            271918.008         \n",
       "9   49499.20              8986.311             310779.799         \n",
       "10  38923.16              23710.300            363768.530         \n",
       "11  38988.63              26362.809            281698.871         \n",
       "\n",
       "    num_coupons_used  num_new_users  num_products_unique   \n",
       "0   1434              232            647                  \\\n",
       "1   1189              114            638                   \n",
       "2   1510              166            727                   \n",
       "3   1457              151            697                   \n",
       "4   1423              119            705                   \n",
       "5   1519              140            714                   \n",
       "6   1890              100            728                   \n",
       "7   1796              116            599                   \n",
       "8   1407              77             593                   \n",
       "9   1318              89             561                   \n",
       "10  1533              66             569                   \n",
       "11  1428              98             579                   \n",
       "\n",
       "    num_categories_unique  \n",
       "0   20                     \n",
       "1   20                     \n",
       "2   20                     \n",
       "3   19                     \n",
       "4   20                     \n",
       "5   20                     \n",
       "6   20                     \n",
       "7   19                     \n",
       "8   20                     \n",
       "9   20                     \n",
       "10  19                     \n",
       "11  19                     "
      ]
     },
     "execution_count": 14,
     "metadata": {},
     "output_type": "execute_result"
    }
   ],
   "source": [
    "report = pd.merge(report, df_products, on='month', how='left')\n",
    "report"
   ]
  },
  {
   "cell_type": "markdown",
   "metadata": {},
   "source": [
    "### Add to the report marketing costs\n"
   ]
  },
  {
   "cell_type": "code",
   "execution_count": 15,
   "metadata": {},
   "outputs": [
    {
     "data": {
      "text/html": [
       "<div>\n",
       "<style scoped>\n",
       "    .dataframe tbody tr th:only-of-type {\n",
       "        vertical-align: middle;\n",
       "    }\n",
       "\n",
       "    .dataframe tbody tr th {\n",
       "        vertical-align: top;\n",
       "    }\n",
       "\n",
       "    .dataframe thead th {\n",
       "        text-align: right;\n",
       "    }\n",
       "</style>\n",
       "<table border=\"1\" class=\"dataframe\">\n",
       "  <thead>\n",
       "    <tr style=\"text-align: right;\">\n",
       "      <th></th>\n",
       "      <th>date</th>\n",
       "      <th>offline_spend</th>\n",
       "      <th>online_spend</th>\n",
       "    </tr>\n",
       "  </thead>\n",
       "  <tbody>\n",
       "    <tr>\n",
       "      <th>0</th>\n",
       "      <td>2019-01-01</td>\n",
       "      <td>4500</td>\n",
       "      <td>2424.50</td>\n",
       "    </tr>\n",
       "    <tr>\n",
       "      <th>1</th>\n",
       "      <td>2019-02-01</td>\n",
       "      <td>4500</td>\n",
       "      <td>3480.36</td>\n",
       "    </tr>\n",
       "    <tr>\n",
       "      <th>2</th>\n",
       "      <td>2019-03-01</td>\n",
       "      <td>4500</td>\n",
       "      <td>1576.38</td>\n",
       "    </tr>\n",
       "    <tr>\n",
       "      <th>3</th>\n",
       "      <td>2019-04-01</td>\n",
       "      <td>4500</td>\n",
       "      <td>2928.55</td>\n",
       "    </tr>\n",
       "    <tr>\n",
       "      <th>4</th>\n",
       "      <td>2019-05-01</td>\n",
       "      <td>4500</td>\n",
       "      <td>4055.30</td>\n",
       "    </tr>\n",
       "  </tbody>\n",
       "</table>\n",
       "</div>"
      ],
      "text/plain": [
       "        date  offline_spend  online_spend\n",
       "0 2019-01-01  4500           2424.50     \n",
       "1 2019-02-01  4500           3480.36     \n",
       "2 2019-03-01  4500           1576.38     \n",
       "3 2019-04-01  4500           2928.55     \n",
       "4 2019-05-01  4500           4055.30     "
      ]
     },
     "execution_count": 15,
     "metadata": {},
     "output_type": "execute_result"
    }
   ],
   "source": [
    "df_marketing.head()"
   ]
  },
  {
   "cell_type": "code",
   "execution_count": 16,
   "metadata": {},
   "outputs": [],
   "source": [
    "df_marketing['month'] = df_marketing['date'].to_numpy().astype('datetime64[M]') "
   ]
  },
  {
   "cell_type": "code",
   "execution_count": 17,
   "metadata": {},
   "outputs": [
    {
     "data": {
      "text/html": [
       "<div>\n",
       "<style scoped>\n",
       "    .dataframe tbody tr th:only-of-type {\n",
       "        vertical-align: middle;\n",
       "    }\n",
       "\n",
       "    .dataframe tbody tr th {\n",
       "        vertical-align: top;\n",
       "    }\n",
       "\n",
       "    .dataframe thead th {\n",
       "        text-align: right;\n",
       "    }\n",
       "</style>\n",
       "<table border=\"1\" class=\"dataframe\">\n",
       "  <thead>\n",
       "    <tr style=\"text-align: right;\">\n",
       "      <th></th>\n",
       "      <th>month</th>\n",
       "      <th>marketing_costs</th>\n",
       "    </tr>\n",
       "  </thead>\n",
       "  <tbody>\n",
       "    <tr>\n",
       "      <th>0</th>\n",
       "      <td>2019-01-01</td>\n",
       "      <td>47957.13</td>\n",
       "    </tr>\n",
       "    <tr>\n",
       "      <th>1</th>\n",
       "      <td>2019-02-01</td>\n",
       "      <td>52169.73</td>\n",
       "    </tr>\n",
       "    <tr>\n",
       "      <th>2</th>\n",
       "      <td>2019-03-01</td>\n",
       "      <td>53360.17</td>\n",
       "    </tr>\n",
       "    <tr>\n",
       "      <th>3</th>\n",
       "      <td>2019-04-01</td>\n",
       "      <td>60971.90</td>\n",
       "    </tr>\n",
       "    <tr>\n",
       "      <th>4</th>\n",
       "      <td>2019-05-01</td>\n",
       "      <td>58299.30</td>\n",
       "    </tr>\n",
       "    <tr>\n",
       "      <th>5</th>\n",
       "      <td>2019-06-01</td>\n",
       "      <td>56556.44</td>\n",
       "    </tr>\n",
       "    <tr>\n",
       "      <th>6</th>\n",
       "      <td>2019-07-01</td>\n",
       "      <td>58170.91</td>\n",
       "    </tr>\n",
       "    <tr>\n",
       "      <th>7</th>\n",
       "      <td>2019-08-01</td>\n",
       "      <td>57501.34</td>\n",
       "    </tr>\n",
       "    <tr>\n",
       "      <th>8</th>\n",
       "      <td>2019-09-01</td>\n",
       "      <td>58383.08</td>\n",
       "    </tr>\n",
       "    <tr>\n",
       "      <th>9</th>\n",
       "      <td>2019-10-01</td>\n",
       "      <td>59172.41</td>\n",
       "    </tr>\n",
       "    <tr>\n",
       "      <th>10</th>\n",
       "      <td>2019-11-01</td>\n",
       "      <td>61123.77</td>\n",
       "    </tr>\n",
       "    <tr>\n",
       "      <th>11</th>\n",
       "      <td>2019-12-01</td>\n",
       "      <td>72710.59</td>\n",
       "    </tr>\n",
       "  </tbody>\n",
       "</table>\n",
       "</div>"
      ],
      "text/plain": [
       "        month  marketing_costs\n",
       "0  2019-01-01  47957.13       \n",
       "1  2019-02-01  52169.73       \n",
       "2  2019-03-01  53360.17       \n",
       "3  2019-04-01  60971.90       \n",
       "4  2019-05-01  58299.30       \n",
       "5  2019-06-01  56556.44       \n",
       "6  2019-07-01  58170.91       \n",
       "7  2019-08-01  57501.34       \n",
       "8  2019-09-01  58383.08       \n",
       "9  2019-10-01  59172.41       \n",
       "10 2019-11-01  61123.77       \n",
       "11 2019-12-01  72710.59       "
      ]
     },
     "execution_count": 17,
     "metadata": {},
     "output_type": "execute_result"
    }
   ],
   "source": [
    "df_marketing_monthly = df_marketing.groupby(['month']).agg({\n",
    "    'online_spend': 'sum'\n",
    "})\\\n",
    "    .reset_index()\\\n",
    "        .sort_values(by='month', ascending=True)\\\n",
    "            .rename(columns={\n",
    "                'online_spend': 'marketing_costs'\n",
    "            })\n",
    "        \n",
    "df_marketing_monthly"
   ]
  },
  {
   "cell_type": "code",
   "execution_count": 18,
   "metadata": {},
   "outputs": [
    {
     "data": {
      "text/html": [
       "<div>\n",
       "<style scoped>\n",
       "    .dataframe tbody tr th:only-of-type {\n",
       "        vertical-align: middle;\n",
       "    }\n",
       "\n",
       "    .dataframe tbody tr th {\n",
       "        vertical-align: top;\n",
       "    }\n",
       "\n",
       "    .dataframe thead th {\n",
       "        text-align: right;\n",
       "    }\n",
       "</style>\n",
       "<table border=\"1\" class=\"dataframe\">\n",
       "  <thead>\n",
       "    <tr style=\"text-align: right;\">\n",
       "      <th></th>\n",
       "      <th>month</th>\n",
       "      <th>num_customers</th>\n",
       "      <th>num_transactions</th>\n",
       "      <th>quantity_items_sold</th>\n",
       "      <th>delivery_charges_sum</th>\n",
       "      <th>discount_amount_sum</th>\n",
       "      <th>total_amount_sum</th>\n",
       "      <th>num_coupons_used</th>\n",
       "      <th>num_new_users</th>\n",
       "      <th>num_products_unique</th>\n",
       "      <th>num_categories_unique</th>\n",
       "      <th>marketing_costs</th>\n",
       "    </tr>\n",
       "  </thead>\n",
       "  <tbody>\n",
       "    <tr>\n",
       "      <th>0</th>\n",
       "      <td>2019-01-01</td>\n",
       "      <td>232</td>\n",
       "      <td>2190</td>\n",
       "      <td>8161</td>\n",
       "      <td>53423.20</td>\n",
       "      <td>8515.453</td>\n",
       "      <td>305718.147</td>\n",
       "      <td>1434</td>\n",
       "      <td>232</td>\n",
       "      <td>647</td>\n",
       "      <td>20</td>\n",
       "      <td>47957.13</td>\n",
       "    </tr>\n",
       "    <tr>\n",
       "      <th>1</th>\n",
       "      <td>2019-02-01</td>\n",
       "      <td>141</td>\n",
       "      <td>1813</td>\n",
       "      <td>6734</td>\n",
       "      <td>47453.10</td>\n",
       "      <td>15638.496</td>\n",
       "      <td>276769.684</td>\n",
       "      <td>1189</td>\n",
       "      <td>114</td>\n",
       "      <td>638</td>\n",
       "      <td>20</td>\n",
       "      <td>52169.73</td>\n",
       "    </tr>\n",
       "    <tr>\n",
       "      <th>2</th>\n",
       "      <td>2019-03-01</td>\n",
       "      <td>229</td>\n",
       "      <td>2207</td>\n",
       "      <td>9023</td>\n",
       "      <td>54951.94</td>\n",
       "      <td>31110.072</td>\n",
       "      <td>307172.668</td>\n",
       "      <td>1510</td>\n",
       "      <td>166</td>\n",
       "      <td>727</td>\n",
       "      <td>20</td>\n",
       "      <td>53360.17</td>\n",
       "    </tr>\n",
       "    <tr>\n",
       "      <th>3</th>\n",
       "      <td>2019-04-01</td>\n",
       "      <td>236</td>\n",
       "      <td>2113</td>\n",
       "      <td>8022</td>\n",
       "      <td>41451.19</td>\n",
       "      <td>9007.977</td>\n",
       "      <td>301089.883</td>\n",
       "      <td>1457</td>\n",
       "      <td>151</td>\n",
       "      <td>697</td>\n",
       "      <td>19</td>\n",
       "      <td>60971.90</td>\n",
       "    </tr>\n",
       "    <tr>\n",
       "      <th>4</th>\n",
       "      <td>2019-05-01</td>\n",
       "      <td>236</td>\n",
       "      <td>2120</td>\n",
       "      <td>8262</td>\n",
       "      <td>40364.35</td>\n",
       "      <td>17096.238</td>\n",
       "      <td>280802.552</td>\n",
       "      <td>1423</td>\n",
       "      <td>119</td>\n",
       "      <td>705</td>\n",
       "      <td>20</td>\n",
       "      <td>58299.30</td>\n",
       "    </tr>\n",
       "    <tr>\n",
       "      <th>5</th>\n",
       "      <td>2019-06-01</td>\n",
       "      <td>254</td>\n",
       "      <td>2194</td>\n",
       "      <td>8170</td>\n",
       "      <td>43052.44</td>\n",
       "      <td>28288.458</td>\n",
       "      <td>298113.802</td>\n",
       "      <td>1519</td>\n",
       "      <td>140</td>\n",
       "      <td>714</td>\n",
       "      <td>20</td>\n",
       "      <td>56556.44</td>\n",
       "    </tr>\n",
       "    <tr>\n",
       "      <th>6</th>\n",
       "      <td>2019-07-01</td>\n",
       "      <td>252</td>\n",
       "      <td>2359</td>\n",
       "      <td>10806</td>\n",
       "      <td>55435.80</td>\n",
       "      <td>10286.504</td>\n",
       "      <td>349513.636</td>\n",
       "      <td>1890</td>\n",
       "      <td>100</td>\n",
       "      <td>728</td>\n",
       "      <td>20</td>\n",
       "      <td>58170.91</td>\n",
       "    </tr>\n",
       "    <tr>\n",
       "      <th>7</th>\n",
       "      <td>2019-08-01</td>\n",
       "      <td>276</td>\n",
       "      <td>2420</td>\n",
       "      <td>9389</td>\n",
       "      <td>49014.73</td>\n",
       "      <td>18399.580</td>\n",
       "      <td>298456.990</td>\n",
       "      <td>1796</td>\n",
       "      <td>116</td>\n",
       "      <td>599</td>\n",
       "      <td>19</td>\n",
       "      <td>57501.34</td>\n",
       "    </tr>\n",
       "    <tr>\n",
       "      <th>8</th>\n",
       "      <td>2019-09-01</td>\n",
       "      <td>195</td>\n",
       "      <td>2108</td>\n",
       "      <td>8035</td>\n",
       "      <td>44077.33</td>\n",
       "      <td>25545.582</td>\n",
       "      <td>271918.008</td>\n",
       "      <td>1407</td>\n",
       "      <td>77</td>\n",
       "      <td>593</td>\n",
       "      <td>20</td>\n",
       "      <td>58383.08</td>\n",
       "    </tr>\n",
       "    <tr>\n",
       "      <th>9</th>\n",
       "      <td>2019-10-01</td>\n",
       "      <td>210</td>\n",
       "      <td>2095</td>\n",
       "      <td>7808</td>\n",
       "      <td>49499.20</td>\n",
       "      <td>8986.311</td>\n",
       "      <td>310779.799</td>\n",
       "      <td>1318</td>\n",
       "      <td>89</td>\n",
       "      <td>561</td>\n",
       "      <td>20</td>\n",
       "      <td>59172.41</td>\n",
       "    </tr>\n",
       "    <tr>\n",
       "      <th>10</th>\n",
       "      <td>2019-11-01</td>\n",
       "      <td>214</td>\n",
       "      <td>2527</td>\n",
       "      <td>8063</td>\n",
       "      <td>38923.16</td>\n",
       "      <td>23710.300</td>\n",
       "      <td>363768.530</td>\n",
       "      <td>1533</td>\n",
       "      <td>66</td>\n",
       "      <td>569</td>\n",
       "      <td>19</td>\n",
       "      <td>61123.77</td>\n",
       "    </tr>\n",
       "    <tr>\n",
       "      <th>11</th>\n",
       "      <td>2019-12-01</td>\n",
       "      <td>245</td>\n",
       "      <td>2485</td>\n",
       "      <td>7154</td>\n",
       "      <td>38988.63</td>\n",
       "      <td>26362.809</td>\n",
       "      <td>281698.871</td>\n",
       "      <td>1428</td>\n",
       "      <td>98</td>\n",
       "      <td>579</td>\n",
       "      <td>19</td>\n",
       "      <td>72710.59</td>\n",
       "    </tr>\n",
       "  </tbody>\n",
       "</table>\n",
       "</div>"
      ],
      "text/plain": [
       "        month  num_customers  num_transactions  quantity_items_sold   \n",
       "0  2019-01-01  232            2190              8161                 \\\n",
       "1  2019-02-01  141            1813              6734                  \n",
       "2  2019-03-01  229            2207              9023                  \n",
       "3  2019-04-01  236            2113              8022                  \n",
       "4  2019-05-01  236            2120              8262                  \n",
       "5  2019-06-01  254            2194              8170                  \n",
       "6  2019-07-01  252            2359              10806                 \n",
       "7  2019-08-01  276            2420              9389                  \n",
       "8  2019-09-01  195            2108              8035                  \n",
       "9  2019-10-01  210            2095              7808                  \n",
       "10 2019-11-01  214            2527              8063                  \n",
       "11 2019-12-01  245            2485              7154                  \n",
       "\n",
       "    delivery_charges_sum  discount_amount_sum  total_amount_sum   \n",
       "0   53423.20              8515.453             305718.147        \\\n",
       "1   47453.10              15638.496            276769.684         \n",
       "2   54951.94              31110.072            307172.668         \n",
       "3   41451.19              9007.977             301089.883         \n",
       "4   40364.35              17096.238            280802.552         \n",
       "5   43052.44              28288.458            298113.802         \n",
       "6   55435.80              10286.504            349513.636         \n",
       "7   49014.73              18399.580            298456.990         \n",
       "8   44077.33              25545.582            271918.008         \n",
       "9   49499.20              8986.311             310779.799         \n",
       "10  38923.16              23710.300            363768.530         \n",
       "11  38988.63              26362.809            281698.871         \n",
       "\n",
       "    num_coupons_used  num_new_users  num_products_unique   \n",
       "0   1434              232            647                  \\\n",
       "1   1189              114            638                   \n",
       "2   1510              166            727                   \n",
       "3   1457              151            697                   \n",
       "4   1423              119            705                   \n",
       "5   1519              140            714                   \n",
       "6   1890              100            728                   \n",
       "7   1796              116            599                   \n",
       "8   1407              77             593                   \n",
       "9   1318              89             561                   \n",
       "10  1533              66             569                   \n",
       "11  1428              98             579                   \n",
       "\n",
       "    num_categories_unique  marketing_costs  \n",
       "0   20                     47957.13         \n",
       "1   20                     52169.73         \n",
       "2   20                     53360.17         \n",
       "3   19                     60971.90         \n",
       "4   20                     58299.30         \n",
       "5   20                     56556.44         \n",
       "6   20                     58170.91         \n",
       "7   19                     57501.34         \n",
       "8   20                     58383.08         \n",
       "9   20                     59172.41         \n",
       "10  19                     61123.77         \n",
       "11  19                     72710.59         "
      ]
     },
     "execution_count": 18,
     "metadata": {},
     "output_type": "execute_result"
    }
   ],
   "source": [
    "report = pd.merge(report, df_marketing_monthly, on='month', how='left')\n",
    "report['month'] = pd.to_datetime(df_marketing['date'])\n",
    "report"
   ]
  },
  {
   "cell_type": "markdown",
   "metadata": {},
   "source": [
    "## Customers\n"
   ]
  },
  {
   "cell_type": "markdown",
   "metadata": {},
   "source": [
    "### Number of Customers by Month\n"
   ]
  },
  {
   "cell_type": "code",
   "execution_count": 19,
   "metadata": {},
   "outputs": [
    {
     "data": {
      "application/vnd.plotly.v1+json": {
       "config": {
        "plotlyServerURL": "https://plot.ly"
       },
       "data": [
        {
         "alignmentgroup": "True",
         "hovertemplate": "month=%{x}<br>num_customers=%{text}<extra></extra>",
         "legendgroup": "",
         "marker": {
          "color": "#636efa",
          "pattern": {
           "shape": ""
          }
         },
         "name": "",
         "offsetgroup": "",
         "orientation": "v",
         "showlegend": false,
         "text": [
          232,
          141,
          229,
          236,
          236,
          254,
          252,
          276,
          195,
          210,
          214,
          245
         ],
         "textangle": 1,
         "textfont": {
          "color": "white"
         },
         "textposition": "auto",
         "type": "bar",
         "x": [
          "2019-01-01T00:00:00",
          "2019-02-01T00:00:00",
          "2019-03-01T00:00:00",
          "2019-04-01T00:00:00",
          "2019-05-01T00:00:00",
          "2019-06-01T00:00:00",
          "2019-07-01T00:00:00",
          "2019-08-01T00:00:00",
          "2019-09-01T00:00:00",
          "2019-10-01T00:00:00",
          "2019-11-01T00:00:00",
          "2019-12-01T00:00:00"
         ],
         "xaxis": "x",
         "y": [
          232,
          141,
          229,
          236,
          236,
          254,
          252,
          276,
          195,
          210,
          214,
          245
         ],
         "yaxis": "y"
        }
       ],
       "layout": {
        "barmode": "group",
        "legend": {
         "tracegroupgap": 0
        },
        "template": {
         "data": {
          "bar": [
           {
            "error_x": {
             "color": "#f2f5fa"
            },
            "error_y": {
             "color": "#f2f5fa"
            },
            "marker": {
             "line": {
              "color": "rgb(17,17,17)",
              "width": 0.5
             },
             "pattern": {
              "fillmode": "overlay",
              "size": 10,
              "solidity": 0.2
             }
            },
            "type": "bar"
           }
          ],
          "barpolar": [
           {
            "marker": {
             "line": {
              "color": "rgb(17,17,17)",
              "width": 0.5
             },
             "pattern": {
              "fillmode": "overlay",
              "size": 10,
              "solidity": 0.2
             }
            },
            "type": "barpolar"
           }
          ],
          "carpet": [
           {
            "aaxis": {
             "endlinecolor": "#A2B1C6",
             "gridcolor": "#506784",
             "linecolor": "#506784",
             "minorgridcolor": "#506784",
             "startlinecolor": "#A2B1C6"
            },
            "baxis": {
             "endlinecolor": "#A2B1C6",
             "gridcolor": "#506784",
             "linecolor": "#506784",
             "minorgridcolor": "#506784",
             "startlinecolor": "#A2B1C6"
            },
            "type": "carpet"
           }
          ],
          "choropleth": [
           {
            "colorbar": {
             "outlinewidth": 0,
             "ticks": ""
            },
            "type": "choropleth"
           }
          ],
          "contour": [
           {
            "colorbar": {
             "outlinewidth": 0,
             "ticks": ""
            },
            "colorscale": [
             [
              0,
              "#0d0887"
             ],
             [
              0.1111111111111111,
              "#46039f"
             ],
             [
              0.2222222222222222,
              "#7201a8"
             ],
             [
              0.3333333333333333,
              "#9c179e"
             ],
             [
              0.4444444444444444,
              "#bd3786"
             ],
             [
              0.5555555555555556,
              "#d8576b"
             ],
             [
              0.6666666666666666,
              "#ed7953"
             ],
             [
              0.7777777777777778,
              "#fb9f3a"
             ],
             [
              0.8888888888888888,
              "#fdca26"
             ],
             [
              1,
              "#f0f921"
             ]
            ],
            "type": "contour"
           }
          ],
          "contourcarpet": [
           {
            "colorbar": {
             "outlinewidth": 0,
             "ticks": ""
            },
            "type": "contourcarpet"
           }
          ],
          "heatmap": [
           {
            "colorbar": {
             "outlinewidth": 0,
             "ticks": ""
            },
            "colorscale": [
             [
              0,
              "#0d0887"
             ],
             [
              0.1111111111111111,
              "#46039f"
             ],
             [
              0.2222222222222222,
              "#7201a8"
             ],
             [
              0.3333333333333333,
              "#9c179e"
             ],
             [
              0.4444444444444444,
              "#bd3786"
             ],
             [
              0.5555555555555556,
              "#d8576b"
             ],
             [
              0.6666666666666666,
              "#ed7953"
             ],
             [
              0.7777777777777778,
              "#fb9f3a"
             ],
             [
              0.8888888888888888,
              "#fdca26"
             ],
             [
              1,
              "#f0f921"
             ]
            ],
            "type": "heatmap"
           }
          ],
          "heatmapgl": [
           {
            "colorbar": {
             "outlinewidth": 0,
             "ticks": ""
            },
            "colorscale": [
             [
              0,
              "#0d0887"
             ],
             [
              0.1111111111111111,
              "#46039f"
             ],
             [
              0.2222222222222222,
              "#7201a8"
             ],
             [
              0.3333333333333333,
              "#9c179e"
             ],
             [
              0.4444444444444444,
              "#bd3786"
             ],
             [
              0.5555555555555556,
              "#d8576b"
             ],
             [
              0.6666666666666666,
              "#ed7953"
             ],
             [
              0.7777777777777778,
              "#fb9f3a"
             ],
             [
              0.8888888888888888,
              "#fdca26"
             ],
             [
              1,
              "#f0f921"
             ]
            ],
            "type": "heatmapgl"
           }
          ],
          "histogram": [
           {
            "marker": {
             "pattern": {
              "fillmode": "overlay",
              "size": 10,
              "solidity": 0.2
             }
            },
            "type": "histogram"
           }
          ],
          "histogram2d": [
           {
            "colorbar": {
             "outlinewidth": 0,
             "ticks": ""
            },
            "colorscale": [
             [
              0,
              "#0d0887"
             ],
             [
              0.1111111111111111,
              "#46039f"
             ],
             [
              0.2222222222222222,
              "#7201a8"
             ],
             [
              0.3333333333333333,
              "#9c179e"
             ],
             [
              0.4444444444444444,
              "#bd3786"
             ],
             [
              0.5555555555555556,
              "#d8576b"
             ],
             [
              0.6666666666666666,
              "#ed7953"
             ],
             [
              0.7777777777777778,
              "#fb9f3a"
             ],
             [
              0.8888888888888888,
              "#fdca26"
             ],
             [
              1,
              "#f0f921"
             ]
            ],
            "type": "histogram2d"
           }
          ],
          "histogram2dcontour": [
           {
            "colorbar": {
             "outlinewidth": 0,
             "ticks": ""
            },
            "colorscale": [
             [
              0,
              "#0d0887"
             ],
             [
              0.1111111111111111,
              "#46039f"
             ],
             [
              0.2222222222222222,
              "#7201a8"
             ],
             [
              0.3333333333333333,
              "#9c179e"
             ],
             [
              0.4444444444444444,
              "#bd3786"
             ],
             [
              0.5555555555555556,
              "#d8576b"
             ],
             [
              0.6666666666666666,
              "#ed7953"
             ],
             [
              0.7777777777777778,
              "#fb9f3a"
             ],
             [
              0.8888888888888888,
              "#fdca26"
             ],
             [
              1,
              "#f0f921"
             ]
            ],
            "type": "histogram2dcontour"
           }
          ],
          "mesh3d": [
           {
            "colorbar": {
             "outlinewidth": 0,
             "ticks": ""
            },
            "type": "mesh3d"
           }
          ],
          "parcoords": [
           {
            "line": {
             "colorbar": {
              "outlinewidth": 0,
              "ticks": ""
             }
            },
            "type": "parcoords"
           }
          ],
          "pie": [
           {
            "automargin": true,
            "type": "pie"
           }
          ],
          "scatter": [
           {
            "marker": {
             "line": {
              "color": "#283442"
             }
            },
            "type": "scatter"
           }
          ],
          "scatter3d": [
           {
            "line": {
             "colorbar": {
              "outlinewidth": 0,
              "ticks": ""
             }
            },
            "marker": {
             "colorbar": {
              "outlinewidth": 0,
              "ticks": ""
             }
            },
            "type": "scatter3d"
           }
          ],
          "scattercarpet": [
           {
            "marker": {
             "colorbar": {
              "outlinewidth": 0,
              "ticks": ""
             }
            },
            "type": "scattercarpet"
           }
          ],
          "scattergeo": [
           {
            "marker": {
             "colorbar": {
              "outlinewidth": 0,
              "ticks": ""
             }
            },
            "type": "scattergeo"
           }
          ],
          "scattergl": [
           {
            "marker": {
             "line": {
              "color": "#283442"
             }
            },
            "type": "scattergl"
           }
          ],
          "scattermapbox": [
           {
            "marker": {
             "colorbar": {
              "outlinewidth": 0,
              "ticks": ""
             }
            },
            "type": "scattermapbox"
           }
          ],
          "scatterpolar": [
           {
            "marker": {
             "colorbar": {
              "outlinewidth": 0,
              "ticks": ""
             }
            },
            "type": "scatterpolar"
           }
          ],
          "scatterpolargl": [
           {
            "marker": {
             "colorbar": {
              "outlinewidth": 0,
              "ticks": ""
             }
            },
            "type": "scatterpolargl"
           }
          ],
          "scatterternary": [
           {
            "marker": {
             "colorbar": {
              "outlinewidth": 0,
              "ticks": ""
             }
            },
            "type": "scatterternary"
           }
          ],
          "surface": [
           {
            "colorbar": {
             "outlinewidth": 0,
             "ticks": ""
            },
            "colorscale": [
             [
              0,
              "#0d0887"
             ],
             [
              0.1111111111111111,
              "#46039f"
             ],
             [
              0.2222222222222222,
              "#7201a8"
             ],
             [
              0.3333333333333333,
              "#9c179e"
             ],
             [
              0.4444444444444444,
              "#bd3786"
             ],
             [
              0.5555555555555556,
              "#d8576b"
             ],
             [
              0.6666666666666666,
              "#ed7953"
             ],
             [
              0.7777777777777778,
              "#fb9f3a"
             ],
             [
              0.8888888888888888,
              "#fdca26"
             ],
             [
              1,
              "#f0f921"
             ]
            ],
            "type": "surface"
           }
          ],
          "table": [
           {
            "cells": {
             "fill": {
              "color": "#506784"
             },
             "line": {
              "color": "rgb(17,17,17)"
             }
            },
            "header": {
             "fill": {
              "color": "#2a3f5f"
             },
             "line": {
              "color": "rgb(17,17,17)"
             }
            },
            "type": "table"
           }
          ]
         },
         "layout": {
          "annotationdefaults": {
           "arrowcolor": "#f2f5fa",
           "arrowhead": 0,
           "arrowwidth": 1
          },
          "autotypenumbers": "strict",
          "coloraxis": {
           "colorbar": {
            "outlinewidth": 0,
            "ticks": ""
           }
          },
          "colorscale": {
           "diverging": [
            [
             0,
             "#8e0152"
            ],
            [
             0.1,
             "#c51b7d"
            ],
            [
             0.2,
             "#de77ae"
            ],
            [
             0.3,
             "#f1b6da"
            ],
            [
             0.4,
             "#fde0ef"
            ],
            [
             0.5,
             "#f7f7f7"
            ],
            [
             0.6,
             "#e6f5d0"
            ],
            [
             0.7,
             "#b8e186"
            ],
            [
             0.8,
             "#7fbc41"
            ],
            [
             0.9,
             "#4d9221"
            ],
            [
             1,
             "#276419"
            ]
           ],
           "sequential": [
            [
             0,
             "#0d0887"
            ],
            [
             0.1111111111111111,
             "#46039f"
            ],
            [
             0.2222222222222222,
             "#7201a8"
            ],
            [
             0.3333333333333333,
             "#9c179e"
            ],
            [
             0.4444444444444444,
             "#bd3786"
            ],
            [
             0.5555555555555556,
             "#d8576b"
            ],
            [
             0.6666666666666666,
             "#ed7953"
            ],
            [
             0.7777777777777778,
             "#fb9f3a"
            ],
            [
             0.8888888888888888,
             "#fdca26"
            ],
            [
             1,
             "#f0f921"
            ]
           ],
           "sequentialminus": [
            [
             0,
             "#0d0887"
            ],
            [
             0.1111111111111111,
             "#46039f"
            ],
            [
             0.2222222222222222,
             "#7201a8"
            ],
            [
             0.3333333333333333,
             "#9c179e"
            ],
            [
             0.4444444444444444,
             "#bd3786"
            ],
            [
             0.5555555555555556,
             "#d8576b"
            ],
            [
             0.6666666666666666,
             "#ed7953"
            ],
            [
             0.7777777777777778,
             "#fb9f3a"
            ],
            [
             0.8888888888888888,
             "#fdca26"
            ],
            [
             1,
             "#f0f921"
            ]
           ]
          },
          "colorway": [
           "#636efa",
           "#EF553B",
           "#00cc96",
           "#ab63fa",
           "#FFA15A",
           "#19d3f3",
           "#FF6692",
           "#B6E880",
           "#FF97FF",
           "#FECB52"
          ],
          "font": {
           "color": "#f2f5fa"
          },
          "geo": {
           "bgcolor": "rgb(17,17,17)",
           "lakecolor": "rgb(17,17,17)",
           "landcolor": "rgb(17,17,17)",
           "showlakes": true,
           "showland": true,
           "subunitcolor": "#506784"
          },
          "hoverlabel": {
           "align": "left"
          },
          "hovermode": "closest",
          "mapbox": {
           "style": "dark"
          },
          "paper_bgcolor": "rgb(17,17,17)",
          "plot_bgcolor": "rgb(17,17,17)",
          "polar": {
           "angularaxis": {
            "gridcolor": "#506784",
            "linecolor": "#506784",
            "ticks": ""
           },
           "bgcolor": "rgb(17,17,17)",
           "radialaxis": {
            "gridcolor": "#506784",
            "linecolor": "#506784",
            "ticks": ""
           }
          },
          "scene": {
           "xaxis": {
            "backgroundcolor": "rgb(17,17,17)",
            "gridcolor": "#506784",
            "gridwidth": 2,
            "linecolor": "#506784",
            "showbackground": true,
            "ticks": "",
            "zerolinecolor": "#C8D4E3"
           },
           "yaxis": {
            "backgroundcolor": "rgb(17,17,17)",
            "gridcolor": "#506784",
            "gridwidth": 2,
            "linecolor": "#506784",
            "showbackground": true,
            "ticks": "",
            "zerolinecolor": "#C8D4E3"
           },
           "zaxis": {
            "backgroundcolor": "rgb(17,17,17)",
            "gridcolor": "#506784",
            "gridwidth": 2,
            "linecolor": "#506784",
            "showbackground": true,
            "ticks": "",
            "zerolinecolor": "#C8D4E3"
           }
          },
          "shapedefaults": {
           "line": {
            "color": "#f2f5fa"
           }
          },
          "sliderdefaults": {
           "bgcolor": "#C8D4E3",
           "bordercolor": "rgb(17,17,17)",
           "borderwidth": 1,
           "tickwidth": 0
          },
          "ternary": {
           "aaxis": {
            "gridcolor": "#506784",
            "linecolor": "#506784",
            "ticks": ""
           },
           "baxis": {
            "gridcolor": "#506784",
            "linecolor": "#506784",
            "ticks": ""
           },
           "bgcolor": "rgb(17,17,17)",
           "caxis": {
            "gridcolor": "#506784",
            "linecolor": "#506784",
            "ticks": ""
           }
          },
          "title": {
           "x": 0.05
          },
          "updatemenudefaults": {
           "bgcolor": "#506784",
           "borderwidth": 0
          },
          "xaxis": {
           "automargin": true,
           "gridcolor": "#283442",
           "linecolor": "#506784",
           "ticks": "",
           "title": {
            "standoff": 15
           },
           "zerolinecolor": "#283442",
           "zerolinewidth": 2
          },
          "yaxis": {
           "automargin": true,
           "gridcolor": "#283442",
           "linecolor": "#506784",
           "ticks": "",
           "title": {
            "standoff": 15
           },
           "zerolinecolor": "#283442",
           "zerolinewidth": 2
          }
         }
        },
        "title": {
         "text": "Number of Customers by Month"
        },
        "xaxis": {
         "anchor": "y",
         "domain": [
          0,
          1
         ],
         "showgrid": false,
         "title": {
          "text": "month"
         }
        },
        "yaxis": {
         "anchor": "x",
         "domain": [
          0,
          1
         ],
         "showgrid": false,
         "title": {
          "text": "num_customers"
         },
         "visible": false
        }
       }
      }
     },
     "metadata": {},
     "output_type": "display_data"
    }
   ],
   "source": [
    "vt.plot_bar_graph(report, 'month', 'num_customers', 'num_customers', 'Number of Customers by Month')"
   ]
  },
  {
   "cell_type": "markdown",
   "metadata": {},
   "source": [
    "### Number of New Customers by month\n"
   ]
  },
  {
   "cell_type": "code",
   "execution_count": 20,
   "metadata": {},
   "outputs": [
    {
     "data": {
      "application/vnd.plotly.v1+json": {
       "config": {
        "plotlyServerURL": "https://plot.ly"
       },
       "data": [
        {
         "alignmentgroup": "True",
         "hovertemplate": "month=%{x}<br>num_new_users=%{text}<extra></extra>",
         "legendgroup": "",
         "marker": {
          "color": "#636efa",
          "pattern": {
           "shape": ""
          }
         },
         "name": "",
         "offsetgroup": "",
         "orientation": "v",
         "showlegend": false,
         "text": [
          232,
          114,
          166,
          151,
          119,
          140,
          100,
          116,
          77,
          89,
          66,
          98
         ],
         "textangle": 1,
         "textfont": {
          "color": "white"
         },
         "textposition": "auto",
         "type": "bar",
         "x": [
          "2019-01-01T00:00:00",
          "2019-02-01T00:00:00",
          "2019-03-01T00:00:00",
          "2019-04-01T00:00:00",
          "2019-05-01T00:00:00",
          "2019-06-01T00:00:00",
          "2019-07-01T00:00:00",
          "2019-08-01T00:00:00",
          "2019-09-01T00:00:00",
          "2019-10-01T00:00:00",
          "2019-11-01T00:00:00",
          "2019-12-01T00:00:00"
         ],
         "xaxis": "x",
         "y": [
          232,
          114,
          166,
          151,
          119,
          140,
          100,
          116,
          77,
          89,
          66,
          98
         ],
         "yaxis": "y"
        }
       ],
       "layout": {
        "barmode": "group",
        "legend": {
         "tracegroupgap": 0
        },
        "template": {
         "data": {
          "bar": [
           {
            "error_x": {
             "color": "#f2f5fa"
            },
            "error_y": {
             "color": "#f2f5fa"
            },
            "marker": {
             "line": {
              "color": "rgb(17,17,17)",
              "width": 0.5
             },
             "pattern": {
              "fillmode": "overlay",
              "size": 10,
              "solidity": 0.2
             }
            },
            "type": "bar"
           }
          ],
          "barpolar": [
           {
            "marker": {
             "line": {
              "color": "rgb(17,17,17)",
              "width": 0.5
             },
             "pattern": {
              "fillmode": "overlay",
              "size": 10,
              "solidity": 0.2
             }
            },
            "type": "barpolar"
           }
          ],
          "carpet": [
           {
            "aaxis": {
             "endlinecolor": "#A2B1C6",
             "gridcolor": "#506784",
             "linecolor": "#506784",
             "minorgridcolor": "#506784",
             "startlinecolor": "#A2B1C6"
            },
            "baxis": {
             "endlinecolor": "#A2B1C6",
             "gridcolor": "#506784",
             "linecolor": "#506784",
             "minorgridcolor": "#506784",
             "startlinecolor": "#A2B1C6"
            },
            "type": "carpet"
           }
          ],
          "choropleth": [
           {
            "colorbar": {
             "outlinewidth": 0,
             "ticks": ""
            },
            "type": "choropleth"
           }
          ],
          "contour": [
           {
            "colorbar": {
             "outlinewidth": 0,
             "ticks": ""
            },
            "colorscale": [
             [
              0,
              "#0d0887"
             ],
             [
              0.1111111111111111,
              "#46039f"
             ],
             [
              0.2222222222222222,
              "#7201a8"
             ],
             [
              0.3333333333333333,
              "#9c179e"
             ],
             [
              0.4444444444444444,
              "#bd3786"
             ],
             [
              0.5555555555555556,
              "#d8576b"
             ],
             [
              0.6666666666666666,
              "#ed7953"
             ],
             [
              0.7777777777777778,
              "#fb9f3a"
             ],
             [
              0.8888888888888888,
              "#fdca26"
             ],
             [
              1,
              "#f0f921"
             ]
            ],
            "type": "contour"
           }
          ],
          "contourcarpet": [
           {
            "colorbar": {
             "outlinewidth": 0,
             "ticks": ""
            },
            "type": "contourcarpet"
           }
          ],
          "heatmap": [
           {
            "colorbar": {
             "outlinewidth": 0,
             "ticks": ""
            },
            "colorscale": [
             [
              0,
              "#0d0887"
             ],
             [
              0.1111111111111111,
              "#46039f"
             ],
             [
              0.2222222222222222,
              "#7201a8"
             ],
             [
              0.3333333333333333,
              "#9c179e"
             ],
             [
              0.4444444444444444,
              "#bd3786"
             ],
             [
              0.5555555555555556,
              "#d8576b"
             ],
             [
              0.6666666666666666,
              "#ed7953"
             ],
             [
              0.7777777777777778,
              "#fb9f3a"
             ],
             [
              0.8888888888888888,
              "#fdca26"
             ],
             [
              1,
              "#f0f921"
             ]
            ],
            "type": "heatmap"
           }
          ],
          "heatmapgl": [
           {
            "colorbar": {
             "outlinewidth": 0,
             "ticks": ""
            },
            "colorscale": [
             [
              0,
              "#0d0887"
             ],
             [
              0.1111111111111111,
              "#46039f"
             ],
             [
              0.2222222222222222,
              "#7201a8"
             ],
             [
              0.3333333333333333,
              "#9c179e"
             ],
             [
              0.4444444444444444,
              "#bd3786"
             ],
             [
              0.5555555555555556,
              "#d8576b"
             ],
             [
              0.6666666666666666,
              "#ed7953"
             ],
             [
              0.7777777777777778,
              "#fb9f3a"
             ],
             [
              0.8888888888888888,
              "#fdca26"
             ],
             [
              1,
              "#f0f921"
             ]
            ],
            "type": "heatmapgl"
           }
          ],
          "histogram": [
           {
            "marker": {
             "pattern": {
              "fillmode": "overlay",
              "size": 10,
              "solidity": 0.2
             }
            },
            "type": "histogram"
           }
          ],
          "histogram2d": [
           {
            "colorbar": {
             "outlinewidth": 0,
             "ticks": ""
            },
            "colorscale": [
             [
              0,
              "#0d0887"
             ],
             [
              0.1111111111111111,
              "#46039f"
             ],
             [
              0.2222222222222222,
              "#7201a8"
             ],
             [
              0.3333333333333333,
              "#9c179e"
             ],
             [
              0.4444444444444444,
              "#bd3786"
             ],
             [
              0.5555555555555556,
              "#d8576b"
             ],
             [
              0.6666666666666666,
              "#ed7953"
             ],
             [
              0.7777777777777778,
              "#fb9f3a"
             ],
             [
              0.8888888888888888,
              "#fdca26"
             ],
             [
              1,
              "#f0f921"
             ]
            ],
            "type": "histogram2d"
           }
          ],
          "histogram2dcontour": [
           {
            "colorbar": {
             "outlinewidth": 0,
             "ticks": ""
            },
            "colorscale": [
             [
              0,
              "#0d0887"
             ],
             [
              0.1111111111111111,
              "#46039f"
             ],
             [
              0.2222222222222222,
              "#7201a8"
             ],
             [
              0.3333333333333333,
              "#9c179e"
             ],
             [
              0.4444444444444444,
              "#bd3786"
             ],
             [
              0.5555555555555556,
              "#d8576b"
             ],
             [
              0.6666666666666666,
              "#ed7953"
             ],
             [
              0.7777777777777778,
              "#fb9f3a"
             ],
             [
              0.8888888888888888,
              "#fdca26"
             ],
             [
              1,
              "#f0f921"
             ]
            ],
            "type": "histogram2dcontour"
           }
          ],
          "mesh3d": [
           {
            "colorbar": {
             "outlinewidth": 0,
             "ticks": ""
            },
            "type": "mesh3d"
           }
          ],
          "parcoords": [
           {
            "line": {
             "colorbar": {
              "outlinewidth": 0,
              "ticks": ""
             }
            },
            "type": "parcoords"
           }
          ],
          "pie": [
           {
            "automargin": true,
            "type": "pie"
           }
          ],
          "scatter": [
           {
            "marker": {
             "line": {
              "color": "#283442"
             }
            },
            "type": "scatter"
           }
          ],
          "scatter3d": [
           {
            "line": {
             "colorbar": {
              "outlinewidth": 0,
              "ticks": ""
             }
            },
            "marker": {
             "colorbar": {
              "outlinewidth": 0,
              "ticks": ""
             }
            },
            "type": "scatter3d"
           }
          ],
          "scattercarpet": [
           {
            "marker": {
             "colorbar": {
              "outlinewidth": 0,
              "ticks": ""
             }
            },
            "type": "scattercarpet"
           }
          ],
          "scattergeo": [
           {
            "marker": {
             "colorbar": {
              "outlinewidth": 0,
              "ticks": ""
             }
            },
            "type": "scattergeo"
           }
          ],
          "scattergl": [
           {
            "marker": {
             "line": {
              "color": "#283442"
             }
            },
            "type": "scattergl"
           }
          ],
          "scattermapbox": [
           {
            "marker": {
             "colorbar": {
              "outlinewidth": 0,
              "ticks": ""
             }
            },
            "type": "scattermapbox"
           }
          ],
          "scatterpolar": [
           {
            "marker": {
             "colorbar": {
              "outlinewidth": 0,
              "ticks": ""
             }
            },
            "type": "scatterpolar"
           }
          ],
          "scatterpolargl": [
           {
            "marker": {
             "colorbar": {
              "outlinewidth": 0,
              "ticks": ""
             }
            },
            "type": "scatterpolargl"
           }
          ],
          "scatterternary": [
           {
            "marker": {
             "colorbar": {
              "outlinewidth": 0,
              "ticks": ""
             }
            },
            "type": "scatterternary"
           }
          ],
          "surface": [
           {
            "colorbar": {
             "outlinewidth": 0,
             "ticks": ""
            },
            "colorscale": [
             [
              0,
              "#0d0887"
             ],
             [
              0.1111111111111111,
              "#46039f"
             ],
             [
              0.2222222222222222,
              "#7201a8"
             ],
             [
              0.3333333333333333,
              "#9c179e"
             ],
             [
              0.4444444444444444,
              "#bd3786"
             ],
             [
              0.5555555555555556,
              "#d8576b"
             ],
             [
              0.6666666666666666,
              "#ed7953"
             ],
             [
              0.7777777777777778,
              "#fb9f3a"
             ],
             [
              0.8888888888888888,
              "#fdca26"
             ],
             [
              1,
              "#f0f921"
             ]
            ],
            "type": "surface"
           }
          ],
          "table": [
           {
            "cells": {
             "fill": {
              "color": "#506784"
             },
             "line": {
              "color": "rgb(17,17,17)"
             }
            },
            "header": {
             "fill": {
              "color": "#2a3f5f"
             },
             "line": {
              "color": "rgb(17,17,17)"
             }
            },
            "type": "table"
           }
          ]
         },
         "layout": {
          "annotationdefaults": {
           "arrowcolor": "#f2f5fa",
           "arrowhead": 0,
           "arrowwidth": 1
          },
          "autotypenumbers": "strict",
          "coloraxis": {
           "colorbar": {
            "outlinewidth": 0,
            "ticks": ""
           }
          },
          "colorscale": {
           "diverging": [
            [
             0,
             "#8e0152"
            ],
            [
             0.1,
             "#c51b7d"
            ],
            [
             0.2,
             "#de77ae"
            ],
            [
             0.3,
             "#f1b6da"
            ],
            [
             0.4,
             "#fde0ef"
            ],
            [
             0.5,
             "#f7f7f7"
            ],
            [
             0.6,
             "#e6f5d0"
            ],
            [
             0.7,
             "#b8e186"
            ],
            [
             0.8,
             "#7fbc41"
            ],
            [
             0.9,
             "#4d9221"
            ],
            [
             1,
             "#276419"
            ]
           ],
           "sequential": [
            [
             0,
             "#0d0887"
            ],
            [
             0.1111111111111111,
             "#46039f"
            ],
            [
             0.2222222222222222,
             "#7201a8"
            ],
            [
             0.3333333333333333,
             "#9c179e"
            ],
            [
             0.4444444444444444,
             "#bd3786"
            ],
            [
             0.5555555555555556,
             "#d8576b"
            ],
            [
             0.6666666666666666,
             "#ed7953"
            ],
            [
             0.7777777777777778,
             "#fb9f3a"
            ],
            [
             0.8888888888888888,
             "#fdca26"
            ],
            [
             1,
             "#f0f921"
            ]
           ],
           "sequentialminus": [
            [
             0,
             "#0d0887"
            ],
            [
             0.1111111111111111,
             "#46039f"
            ],
            [
             0.2222222222222222,
             "#7201a8"
            ],
            [
             0.3333333333333333,
             "#9c179e"
            ],
            [
             0.4444444444444444,
             "#bd3786"
            ],
            [
             0.5555555555555556,
             "#d8576b"
            ],
            [
             0.6666666666666666,
             "#ed7953"
            ],
            [
             0.7777777777777778,
             "#fb9f3a"
            ],
            [
             0.8888888888888888,
             "#fdca26"
            ],
            [
             1,
             "#f0f921"
            ]
           ]
          },
          "colorway": [
           "#636efa",
           "#EF553B",
           "#00cc96",
           "#ab63fa",
           "#FFA15A",
           "#19d3f3",
           "#FF6692",
           "#B6E880",
           "#FF97FF",
           "#FECB52"
          ],
          "font": {
           "color": "#f2f5fa"
          },
          "geo": {
           "bgcolor": "rgb(17,17,17)",
           "lakecolor": "rgb(17,17,17)",
           "landcolor": "rgb(17,17,17)",
           "showlakes": true,
           "showland": true,
           "subunitcolor": "#506784"
          },
          "hoverlabel": {
           "align": "left"
          },
          "hovermode": "closest",
          "mapbox": {
           "style": "dark"
          },
          "paper_bgcolor": "rgb(17,17,17)",
          "plot_bgcolor": "rgb(17,17,17)",
          "polar": {
           "angularaxis": {
            "gridcolor": "#506784",
            "linecolor": "#506784",
            "ticks": ""
           },
           "bgcolor": "rgb(17,17,17)",
           "radialaxis": {
            "gridcolor": "#506784",
            "linecolor": "#506784",
            "ticks": ""
           }
          },
          "scene": {
           "xaxis": {
            "backgroundcolor": "rgb(17,17,17)",
            "gridcolor": "#506784",
            "gridwidth": 2,
            "linecolor": "#506784",
            "showbackground": true,
            "ticks": "",
            "zerolinecolor": "#C8D4E3"
           },
           "yaxis": {
            "backgroundcolor": "rgb(17,17,17)",
            "gridcolor": "#506784",
            "gridwidth": 2,
            "linecolor": "#506784",
            "showbackground": true,
            "ticks": "",
            "zerolinecolor": "#C8D4E3"
           },
           "zaxis": {
            "backgroundcolor": "rgb(17,17,17)",
            "gridcolor": "#506784",
            "gridwidth": 2,
            "linecolor": "#506784",
            "showbackground": true,
            "ticks": "",
            "zerolinecolor": "#C8D4E3"
           }
          },
          "shapedefaults": {
           "line": {
            "color": "#f2f5fa"
           }
          },
          "sliderdefaults": {
           "bgcolor": "#C8D4E3",
           "bordercolor": "rgb(17,17,17)",
           "borderwidth": 1,
           "tickwidth": 0
          },
          "ternary": {
           "aaxis": {
            "gridcolor": "#506784",
            "linecolor": "#506784",
            "ticks": ""
           },
           "baxis": {
            "gridcolor": "#506784",
            "linecolor": "#506784",
            "ticks": ""
           },
           "bgcolor": "rgb(17,17,17)",
           "caxis": {
            "gridcolor": "#506784",
            "linecolor": "#506784",
            "ticks": ""
           }
          },
          "title": {
           "x": 0.05
          },
          "updatemenudefaults": {
           "bgcolor": "#506784",
           "borderwidth": 0
          },
          "xaxis": {
           "automargin": true,
           "gridcolor": "#283442",
           "linecolor": "#506784",
           "ticks": "",
           "title": {
            "standoff": 15
           },
           "zerolinecolor": "#283442",
           "zerolinewidth": 2
          },
          "yaxis": {
           "automargin": true,
           "gridcolor": "#283442",
           "linecolor": "#506784",
           "ticks": "",
           "title": {
            "standoff": 15
           },
           "zerolinecolor": "#283442",
           "zerolinewidth": 2
          }
         }
        },
        "title": {
         "text": "Number of New Customers by month"
        },
        "xaxis": {
         "anchor": "y",
         "domain": [
          0,
          1
         ],
         "showgrid": false,
         "title": {
          "text": "month"
         }
        },
        "yaxis": {
         "anchor": "x",
         "domain": [
          0,
          1
         ],
         "showgrid": false,
         "title": {
          "text": "num_new_users"
         },
         "visible": false
        }
       }
      }
     },
     "metadata": {},
     "output_type": "display_data"
    }
   ],
   "source": [
    "vt.plot_bar_graph(report, 'month', 'num_new_users', 'num_new_users', 'Number of New Customers by month')"
   ]
  },
  {
   "cell_type": "markdown",
   "metadata": {},
   "source": [
    "### New customers rate\n"
   ]
  },
  {
   "cell_type": "code",
   "execution_count": 21,
   "metadata": {},
   "outputs": [],
   "source": [
    "report['new_customers_rate'] = (report['num_new_users'] / report['num_customers'] * 100).round(1)"
   ]
  },
  {
   "cell_type": "markdown",
   "metadata": {},
   "source": [
    "### MAU ( Average Monthly Active Users / Customers)\n"
   ]
  },
  {
   "cell_type": "code",
   "execution_count": 22,
   "metadata": {},
   "outputs": [
    {
     "data": {
      "text/plain": [
       "226"
      ]
     },
     "execution_count": 22,
     "metadata": {},
     "output_type": "execute_result"
    }
   ],
   "source": [
    "mau = report['num_customers'].mean().astype(int)\n",
    "mau"
   ]
  },
  {
   "cell_type": "markdown",
   "metadata": {},
   "source": [
    "## Orders\n"
   ]
  },
  {
   "cell_type": "markdown",
   "metadata": {},
   "source": [
    "### Average Order Value\n"
   ]
  },
  {
   "cell_type": "code",
   "execution_count": 23,
   "metadata": {},
   "outputs": [],
   "source": [
    "report['aov'] = (report['total_amount_sum'] / report['num_transactions']).round(2)"
   ]
  },
  {
   "cell_type": "markdown",
   "metadata": {},
   "source": [
    "### Average number of Orders per Customer by month\n"
   ]
  },
  {
   "cell_type": "code",
   "execution_count": 24,
   "metadata": {},
   "outputs": [],
   "source": [
    "report['avg_num_orders_per_customer'] = (report['num_transactions'] / report['num_customers']).astype(int)"
   ]
  },
  {
   "cell_type": "markdown",
   "metadata": {},
   "source": [
    "### Average number of purchased items per Customer\n"
   ]
  },
  {
   "cell_type": "code",
   "execution_count": 25,
   "metadata": {},
   "outputs": [],
   "source": [
    "report['avg_items_per_order'] = (report['quantity_items_sold'] / report['num_transactions']).astype(int)"
   ]
  },
  {
   "cell_type": "markdown",
   "metadata": {},
   "source": [
    "## Acquisition Metrics\n"
   ]
  },
  {
   "cell_type": "markdown",
   "metadata": {},
   "source": [
    "#### Customer Acquisition Cost (CAC)\n",
    "\n",
    "_The cost of acquiring a new customer through marketing and sales efforts_\n"
   ]
  },
  {
   "cell_type": "code",
   "execution_count": 26,
   "metadata": {},
   "outputs": [
    {
     "data": {
      "application/vnd.plotly.v1+json": {
       "config": {
        "plotlyServerURL": "https://plot.ly"
       },
       "data": [
        {
         "alignmentgroup": "True",
         "hovertemplate": "month=%{x}<br>cac=%{text}<extra></extra>",
         "legendgroup": "",
         "marker": {
          "color": "#636efa",
          "pattern": {
           "shape": ""
          }
         },
         "name": "",
         "offsetgroup": "",
         "orientation": "v",
         "showlegend": false,
         "text": [
          206,
          457,
          321,
          403,
          489,
          403,
          581,
          495,
          758,
          664,
          926,
          741
         ],
         "textangle": 1,
         "textfont": {
          "color": "white"
         },
         "textposition": "auto",
         "type": "bar",
         "x": [
          "2019-01-01T00:00:00",
          "2019-02-01T00:00:00",
          "2019-03-01T00:00:00",
          "2019-04-01T00:00:00",
          "2019-05-01T00:00:00",
          "2019-06-01T00:00:00",
          "2019-07-01T00:00:00",
          "2019-08-01T00:00:00",
          "2019-09-01T00:00:00",
          "2019-10-01T00:00:00",
          "2019-11-01T00:00:00",
          "2019-12-01T00:00:00"
         ],
         "xaxis": "x",
         "y": [
          206,
          457,
          321,
          403,
          489,
          403,
          581,
          495,
          758,
          664,
          926,
          741
         ],
         "yaxis": "y"
        }
       ],
       "layout": {
        "barmode": "group",
        "legend": {
         "tracegroupgap": 0
        },
        "template": {
         "data": {
          "bar": [
           {
            "error_x": {
             "color": "#f2f5fa"
            },
            "error_y": {
             "color": "#f2f5fa"
            },
            "marker": {
             "line": {
              "color": "rgb(17,17,17)",
              "width": 0.5
             },
             "pattern": {
              "fillmode": "overlay",
              "size": 10,
              "solidity": 0.2
             }
            },
            "type": "bar"
           }
          ],
          "barpolar": [
           {
            "marker": {
             "line": {
              "color": "rgb(17,17,17)",
              "width": 0.5
             },
             "pattern": {
              "fillmode": "overlay",
              "size": 10,
              "solidity": 0.2
             }
            },
            "type": "barpolar"
           }
          ],
          "carpet": [
           {
            "aaxis": {
             "endlinecolor": "#A2B1C6",
             "gridcolor": "#506784",
             "linecolor": "#506784",
             "minorgridcolor": "#506784",
             "startlinecolor": "#A2B1C6"
            },
            "baxis": {
             "endlinecolor": "#A2B1C6",
             "gridcolor": "#506784",
             "linecolor": "#506784",
             "minorgridcolor": "#506784",
             "startlinecolor": "#A2B1C6"
            },
            "type": "carpet"
           }
          ],
          "choropleth": [
           {
            "colorbar": {
             "outlinewidth": 0,
             "ticks": ""
            },
            "type": "choropleth"
           }
          ],
          "contour": [
           {
            "colorbar": {
             "outlinewidth": 0,
             "ticks": ""
            },
            "colorscale": [
             [
              0,
              "#0d0887"
             ],
             [
              0.1111111111111111,
              "#46039f"
             ],
             [
              0.2222222222222222,
              "#7201a8"
             ],
             [
              0.3333333333333333,
              "#9c179e"
             ],
             [
              0.4444444444444444,
              "#bd3786"
             ],
             [
              0.5555555555555556,
              "#d8576b"
             ],
             [
              0.6666666666666666,
              "#ed7953"
             ],
             [
              0.7777777777777778,
              "#fb9f3a"
             ],
             [
              0.8888888888888888,
              "#fdca26"
             ],
             [
              1,
              "#f0f921"
             ]
            ],
            "type": "contour"
           }
          ],
          "contourcarpet": [
           {
            "colorbar": {
             "outlinewidth": 0,
             "ticks": ""
            },
            "type": "contourcarpet"
           }
          ],
          "heatmap": [
           {
            "colorbar": {
             "outlinewidth": 0,
             "ticks": ""
            },
            "colorscale": [
             [
              0,
              "#0d0887"
             ],
             [
              0.1111111111111111,
              "#46039f"
             ],
             [
              0.2222222222222222,
              "#7201a8"
             ],
             [
              0.3333333333333333,
              "#9c179e"
             ],
             [
              0.4444444444444444,
              "#bd3786"
             ],
             [
              0.5555555555555556,
              "#d8576b"
             ],
             [
              0.6666666666666666,
              "#ed7953"
             ],
             [
              0.7777777777777778,
              "#fb9f3a"
             ],
             [
              0.8888888888888888,
              "#fdca26"
             ],
             [
              1,
              "#f0f921"
             ]
            ],
            "type": "heatmap"
           }
          ],
          "heatmapgl": [
           {
            "colorbar": {
             "outlinewidth": 0,
             "ticks": ""
            },
            "colorscale": [
             [
              0,
              "#0d0887"
             ],
             [
              0.1111111111111111,
              "#46039f"
             ],
             [
              0.2222222222222222,
              "#7201a8"
             ],
             [
              0.3333333333333333,
              "#9c179e"
             ],
             [
              0.4444444444444444,
              "#bd3786"
             ],
             [
              0.5555555555555556,
              "#d8576b"
             ],
             [
              0.6666666666666666,
              "#ed7953"
             ],
             [
              0.7777777777777778,
              "#fb9f3a"
             ],
             [
              0.8888888888888888,
              "#fdca26"
             ],
             [
              1,
              "#f0f921"
             ]
            ],
            "type": "heatmapgl"
           }
          ],
          "histogram": [
           {
            "marker": {
             "pattern": {
              "fillmode": "overlay",
              "size": 10,
              "solidity": 0.2
             }
            },
            "type": "histogram"
           }
          ],
          "histogram2d": [
           {
            "colorbar": {
             "outlinewidth": 0,
             "ticks": ""
            },
            "colorscale": [
             [
              0,
              "#0d0887"
             ],
             [
              0.1111111111111111,
              "#46039f"
             ],
             [
              0.2222222222222222,
              "#7201a8"
             ],
             [
              0.3333333333333333,
              "#9c179e"
             ],
             [
              0.4444444444444444,
              "#bd3786"
             ],
             [
              0.5555555555555556,
              "#d8576b"
             ],
             [
              0.6666666666666666,
              "#ed7953"
             ],
             [
              0.7777777777777778,
              "#fb9f3a"
             ],
             [
              0.8888888888888888,
              "#fdca26"
             ],
             [
              1,
              "#f0f921"
             ]
            ],
            "type": "histogram2d"
           }
          ],
          "histogram2dcontour": [
           {
            "colorbar": {
             "outlinewidth": 0,
             "ticks": ""
            },
            "colorscale": [
             [
              0,
              "#0d0887"
             ],
             [
              0.1111111111111111,
              "#46039f"
             ],
             [
              0.2222222222222222,
              "#7201a8"
             ],
             [
              0.3333333333333333,
              "#9c179e"
             ],
             [
              0.4444444444444444,
              "#bd3786"
             ],
             [
              0.5555555555555556,
              "#d8576b"
             ],
             [
              0.6666666666666666,
              "#ed7953"
             ],
             [
              0.7777777777777778,
              "#fb9f3a"
             ],
             [
              0.8888888888888888,
              "#fdca26"
             ],
             [
              1,
              "#f0f921"
             ]
            ],
            "type": "histogram2dcontour"
           }
          ],
          "mesh3d": [
           {
            "colorbar": {
             "outlinewidth": 0,
             "ticks": ""
            },
            "type": "mesh3d"
           }
          ],
          "parcoords": [
           {
            "line": {
             "colorbar": {
              "outlinewidth": 0,
              "ticks": ""
             }
            },
            "type": "parcoords"
           }
          ],
          "pie": [
           {
            "automargin": true,
            "type": "pie"
           }
          ],
          "scatter": [
           {
            "marker": {
             "line": {
              "color": "#283442"
             }
            },
            "type": "scatter"
           }
          ],
          "scatter3d": [
           {
            "line": {
             "colorbar": {
              "outlinewidth": 0,
              "ticks": ""
             }
            },
            "marker": {
             "colorbar": {
              "outlinewidth": 0,
              "ticks": ""
             }
            },
            "type": "scatter3d"
           }
          ],
          "scattercarpet": [
           {
            "marker": {
             "colorbar": {
              "outlinewidth": 0,
              "ticks": ""
             }
            },
            "type": "scattercarpet"
           }
          ],
          "scattergeo": [
           {
            "marker": {
             "colorbar": {
              "outlinewidth": 0,
              "ticks": ""
             }
            },
            "type": "scattergeo"
           }
          ],
          "scattergl": [
           {
            "marker": {
             "line": {
              "color": "#283442"
             }
            },
            "type": "scattergl"
           }
          ],
          "scattermapbox": [
           {
            "marker": {
             "colorbar": {
              "outlinewidth": 0,
              "ticks": ""
             }
            },
            "type": "scattermapbox"
           }
          ],
          "scatterpolar": [
           {
            "marker": {
             "colorbar": {
              "outlinewidth": 0,
              "ticks": ""
             }
            },
            "type": "scatterpolar"
           }
          ],
          "scatterpolargl": [
           {
            "marker": {
             "colorbar": {
              "outlinewidth": 0,
              "ticks": ""
             }
            },
            "type": "scatterpolargl"
           }
          ],
          "scatterternary": [
           {
            "marker": {
             "colorbar": {
              "outlinewidth": 0,
              "ticks": ""
             }
            },
            "type": "scatterternary"
           }
          ],
          "surface": [
           {
            "colorbar": {
             "outlinewidth": 0,
             "ticks": ""
            },
            "colorscale": [
             [
              0,
              "#0d0887"
             ],
             [
              0.1111111111111111,
              "#46039f"
             ],
             [
              0.2222222222222222,
              "#7201a8"
             ],
             [
              0.3333333333333333,
              "#9c179e"
             ],
             [
              0.4444444444444444,
              "#bd3786"
             ],
             [
              0.5555555555555556,
              "#d8576b"
             ],
             [
              0.6666666666666666,
              "#ed7953"
             ],
             [
              0.7777777777777778,
              "#fb9f3a"
             ],
             [
              0.8888888888888888,
              "#fdca26"
             ],
             [
              1,
              "#f0f921"
             ]
            ],
            "type": "surface"
           }
          ],
          "table": [
           {
            "cells": {
             "fill": {
              "color": "#506784"
             },
             "line": {
              "color": "rgb(17,17,17)"
             }
            },
            "header": {
             "fill": {
              "color": "#2a3f5f"
             },
             "line": {
              "color": "rgb(17,17,17)"
             }
            },
            "type": "table"
           }
          ]
         },
         "layout": {
          "annotationdefaults": {
           "arrowcolor": "#f2f5fa",
           "arrowhead": 0,
           "arrowwidth": 1
          },
          "autotypenumbers": "strict",
          "coloraxis": {
           "colorbar": {
            "outlinewidth": 0,
            "ticks": ""
           }
          },
          "colorscale": {
           "diverging": [
            [
             0,
             "#8e0152"
            ],
            [
             0.1,
             "#c51b7d"
            ],
            [
             0.2,
             "#de77ae"
            ],
            [
             0.3,
             "#f1b6da"
            ],
            [
             0.4,
             "#fde0ef"
            ],
            [
             0.5,
             "#f7f7f7"
            ],
            [
             0.6,
             "#e6f5d0"
            ],
            [
             0.7,
             "#b8e186"
            ],
            [
             0.8,
             "#7fbc41"
            ],
            [
             0.9,
             "#4d9221"
            ],
            [
             1,
             "#276419"
            ]
           ],
           "sequential": [
            [
             0,
             "#0d0887"
            ],
            [
             0.1111111111111111,
             "#46039f"
            ],
            [
             0.2222222222222222,
             "#7201a8"
            ],
            [
             0.3333333333333333,
             "#9c179e"
            ],
            [
             0.4444444444444444,
             "#bd3786"
            ],
            [
             0.5555555555555556,
             "#d8576b"
            ],
            [
             0.6666666666666666,
             "#ed7953"
            ],
            [
             0.7777777777777778,
             "#fb9f3a"
            ],
            [
             0.8888888888888888,
             "#fdca26"
            ],
            [
             1,
             "#f0f921"
            ]
           ],
           "sequentialminus": [
            [
             0,
             "#0d0887"
            ],
            [
             0.1111111111111111,
             "#46039f"
            ],
            [
             0.2222222222222222,
             "#7201a8"
            ],
            [
             0.3333333333333333,
             "#9c179e"
            ],
            [
             0.4444444444444444,
             "#bd3786"
            ],
            [
             0.5555555555555556,
             "#d8576b"
            ],
            [
             0.6666666666666666,
             "#ed7953"
            ],
            [
             0.7777777777777778,
             "#fb9f3a"
            ],
            [
             0.8888888888888888,
             "#fdca26"
            ],
            [
             1,
             "#f0f921"
            ]
           ]
          },
          "colorway": [
           "#636efa",
           "#EF553B",
           "#00cc96",
           "#ab63fa",
           "#FFA15A",
           "#19d3f3",
           "#FF6692",
           "#B6E880",
           "#FF97FF",
           "#FECB52"
          ],
          "font": {
           "color": "#f2f5fa"
          },
          "geo": {
           "bgcolor": "rgb(17,17,17)",
           "lakecolor": "rgb(17,17,17)",
           "landcolor": "rgb(17,17,17)",
           "showlakes": true,
           "showland": true,
           "subunitcolor": "#506784"
          },
          "hoverlabel": {
           "align": "left"
          },
          "hovermode": "closest",
          "mapbox": {
           "style": "dark"
          },
          "paper_bgcolor": "rgb(17,17,17)",
          "plot_bgcolor": "rgb(17,17,17)",
          "polar": {
           "angularaxis": {
            "gridcolor": "#506784",
            "linecolor": "#506784",
            "ticks": ""
           },
           "bgcolor": "rgb(17,17,17)",
           "radialaxis": {
            "gridcolor": "#506784",
            "linecolor": "#506784",
            "ticks": ""
           }
          },
          "scene": {
           "xaxis": {
            "backgroundcolor": "rgb(17,17,17)",
            "gridcolor": "#506784",
            "gridwidth": 2,
            "linecolor": "#506784",
            "showbackground": true,
            "ticks": "",
            "zerolinecolor": "#C8D4E3"
           },
           "yaxis": {
            "backgroundcolor": "rgb(17,17,17)",
            "gridcolor": "#506784",
            "gridwidth": 2,
            "linecolor": "#506784",
            "showbackground": true,
            "ticks": "",
            "zerolinecolor": "#C8D4E3"
           },
           "zaxis": {
            "backgroundcolor": "rgb(17,17,17)",
            "gridcolor": "#506784",
            "gridwidth": 2,
            "linecolor": "#506784",
            "showbackground": true,
            "ticks": "",
            "zerolinecolor": "#C8D4E3"
           }
          },
          "shapedefaults": {
           "line": {
            "color": "#f2f5fa"
           }
          },
          "sliderdefaults": {
           "bgcolor": "#C8D4E3",
           "bordercolor": "rgb(17,17,17)",
           "borderwidth": 1,
           "tickwidth": 0
          },
          "ternary": {
           "aaxis": {
            "gridcolor": "#506784",
            "linecolor": "#506784",
            "ticks": ""
           },
           "baxis": {
            "gridcolor": "#506784",
            "linecolor": "#506784",
            "ticks": ""
           },
           "bgcolor": "rgb(17,17,17)",
           "caxis": {
            "gridcolor": "#506784",
            "linecolor": "#506784",
            "ticks": ""
           }
          },
          "title": {
           "x": 0.05
          },
          "updatemenudefaults": {
           "bgcolor": "#506784",
           "borderwidth": 0
          },
          "xaxis": {
           "automargin": true,
           "gridcolor": "#283442",
           "linecolor": "#506784",
           "ticks": "",
           "title": {
            "standoff": 15
           },
           "zerolinecolor": "#283442",
           "zerolinewidth": 2
          },
          "yaxis": {
           "automargin": true,
           "gridcolor": "#283442",
           "linecolor": "#506784",
           "ticks": "",
           "title": {
            "standoff": 15
           },
           "zerolinecolor": "#283442",
           "zerolinewidth": 2
          }
         }
        },
        "title": {
         "text": "Customer Acquisition Cost (CAC)"
        },
        "xaxis": {
         "anchor": "y",
         "domain": [
          0,
          1
         ],
         "showgrid": false,
         "title": {
          "text": "month"
         }
        },
        "yaxis": {
         "anchor": "x",
         "domain": [
          0,
          1
         ],
         "showgrid": false,
         "title": {
          "text": "cac"
         },
         "visible": false
        }
       }
      }
     },
     "metadata": {},
     "output_type": "display_data"
    }
   ],
   "source": [
    "report['cac'] = (report['marketing_costs'] / report['num_new_users']).astype('int')\n",
    "vt.plot_bar_graph(report, axis_x='month', axis_y='cac', label='cac', title='Customer Acquisition Cost (CAC)')"
   ]
  },
  {
   "cell_type": "markdown",
   "metadata": {},
   "source": [
    "## Retention Metrics\n",
    "\n",
    "A good example of cohort retenTion analysis:\n",
    "\n",
    "https://towardsdatascience.com/strategy-analytics-in-python-1-churn-analysis-82cb0247fe6f\n",
    "\n",
    "However, we will add to the report monthly retention metrics.\n"
   ]
  },
  {
   "cell_type": "markdown",
   "metadata": {},
   "source": [
    "### User Retention Rate\n",
    "\n",
    "_The percentage of users who continue using the product after a specific time\n",
    "period. Often monthly._\n",
    "\n",
    "Retention rate = (# customers current period - new customers) / # customers\n",
    "starting period\n"
   ]
  },
  {
   "cell_type": "code",
   "execution_count": 27,
   "metadata": {},
   "outputs": [],
   "source": [
    "report['retention_rate'] = (\n",
    "    (report['num_customers'] - report['num_new_users']) / report['num_customers'].shift(1)\n",
    ").fillna(1).round(2)"
   ]
  },
  {
   "cell_type": "markdown",
   "metadata": {},
   "source": [
    "### Churn Rate\n",
    "\n",
    "_The percentage of users who stop using the product within a specific time\n",
    "period, e.g., monthly._\n"
   ]
  },
  {
   "cell_type": "code",
   "execution_count": 28,
   "metadata": {},
   "outputs": [],
   "source": [
    "report['churn_rate'] = 1 - report['retention_rate']"
   ]
  },
  {
   "cell_type": "markdown",
   "metadata": {},
   "source": [
    "### Customer Lifetime\n",
    "\n",
    "_The average time it takes for a user to stop using the product._\n",
    "\n",
    "𝐶𝑢𝑠𝑡𝑜𝑚𝑒𝑟 𝐿𝑖𝑓𝑒𝑡𝑖𝑚𝑒 = 1 / 𝐶ℎ𝑢𝑟𝑛 𝑅𝑎𝑡𝑒\n"
   ]
  },
  {
   "cell_type": "code",
   "execution_count": 29,
   "metadata": {},
   "outputs": [],
   "source": [
    "report['clt'] = report['churn_rate'].apply(lambda x: 1 if x==0 else 1 / x).round(1)"
   ]
  },
  {
   "cell_type": "code",
   "execution_count": 30,
   "metadata": {},
   "outputs": [
    {
     "data": {
      "text/html": [
       "<div>\n",
       "<style scoped>\n",
       "    .dataframe tbody tr th:only-of-type {\n",
       "        vertical-align: middle;\n",
       "    }\n",
       "\n",
       "    .dataframe tbody tr th {\n",
       "        vertical-align: top;\n",
       "    }\n",
       "\n",
       "    .dataframe thead th {\n",
       "        text-align: right;\n",
       "    }\n",
       "</style>\n",
       "<table border=\"1\" class=\"dataframe\">\n",
       "  <thead>\n",
       "    <tr style=\"text-align: right;\">\n",
       "      <th></th>\n",
       "      <th>month</th>\n",
       "      <th>num_customers</th>\n",
       "      <th>retention_rate</th>\n",
       "      <th>churn_rate</th>\n",
       "      <th>clt</th>\n",
       "    </tr>\n",
       "  </thead>\n",
       "  <tbody>\n",
       "    <tr>\n",
       "      <th>0</th>\n",
       "      <td>2019-01-01</td>\n",
       "      <td>232</td>\n",
       "      <td>1.00</td>\n",
       "      <td>0.00</td>\n",
       "      <td>1.0</td>\n",
       "    </tr>\n",
       "    <tr>\n",
       "      <th>1</th>\n",
       "      <td>2019-02-01</td>\n",
       "      <td>141</td>\n",
       "      <td>0.12</td>\n",
       "      <td>0.88</td>\n",
       "      <td>1.1</td>\n",
       "    </tr>\n",
       "    <tr>\n",
       "      <th>2</th>\n",
       "      <td>2019-03-01</td>\n",
       "      <td>229</td>\n",
       "      <td>0.45</td>\n",
       "      <td>0.55</td>\n",
       "      <td>1.8</td>\n",
       "    </tr>\n",
       "    <tr>\n",
       "      <th>3</th>\n",
       "      <td>2019-04-01</td>\n",
       "      <td>236</td>\n",
       "      <td>0.37</td>\n",
       "      <td>0.63</td>\n",
       "      <td>1.6</td>\n",
       "    </tr>\n",
       "    <tr>\n",
       "      <th>4</th>\n",
       "      <td>2019-05-01</td>\n",
       "      <td>236</td>\n",
       "      <td>0.50</td>\n",
       "      <td>0.50</td>\n",
       "      <td>2.0</td>\n",
       "    </tr>\n",
       "    <tr>\n",
       "      <th>5</th>\n",
       "      <td>2019-06-01</td>\n",
       "      <td>254</td>\n",
       "      <td>0.48</td>\n",
       "      <td>0.52</td>\n",
       "      <td>1.9</td>\n",
       "    </tr>\n",
       "    <tr>\n",
       "      <th>6</th>\n",
       "      <td>2019-07-01</td>\n",
       "      <td>252</td>\n",
       "      <td>0.60</td>\n",
       "      <td>0.40</td>\n",
       "      <td>2.5</td>\n",
       "    </tr>\n",
       "    <tr>\n",
       "      <th>7</th>\n",
       "      <td>2019-08-01</td>\n",
       "      <td>276</td>\n",
       "      <td>0.63</td>\n",
       "      <td>0.37</td>\n",
       "      <td>2.7</td>\n",
       "    </tr>\n",
       "    <tr>\n",
       "      <th>8</th>\n",
       "      <td>2019-09-01</td>\n",
       "      <td>195</td>\n",
       "      <td>0.43</td>\n",
       "      <td>0.57</td>\n",
       "      <td>1.8</td>\n",
       "    </tr>\n",
       "    <tr>\n",
       "      <th>9</th>\n",
       "      <td>2019-10-01</td>\n",
       "      <td>210</td>\n",
       "      <td>0.62</td>\n",
       "      <td>0.38</td>\n",
       "      <td>2.6</td>\n",
       "    </tr>\n",
       "    <tr>\n",
       "      <th>10</th>\n",
       "      <td>2019-11-01</td>\n",
       "      <td>214</td>\n",
       "      <td>0.70</td>\n",
       "      <td>0.30</td>\n",
       "      <td>3.3</td>\n",
       "    </tr>\n",
       "    <tr>\n",
       "      <th>11</th>\n",
       "      <td>2019-12-01</td>\n",
       "      <td>245</td>\n",
       "      <td>0.69</td>\n",
       "      <td>0.31</td>\n",
       "      <td>3.2</td>\n",
       "    </tr>\n",
       "  </tbody>\n",
       "</table>\n",
       "</div>"
      ],
      "text/plain": [
       "        month  num_customers  retention_rate  churn_rate  clt\n",
       "0  2019-01-01  232            1.00            0.00        1.0\n",
       "1  2019-02-01  141            0.12            0.88        1.1\n",
       "2  2019-03-01  229            0.45            0.55        1.8\n",
       "3  2019-04-01  236            0.37            0.63        1.6\n",
       "4  2019-05-01  236            0.50            0.50        2.0\n",
       "5  2019-06-01  254            0.48            0.52        1.9\n",
       "6  2019-07-01  252            0.60            0.40        2.5\n",
       "7  2019-08-01  276            0.63            0.37        2.7\n",
       "8  2019-09-01  195            0.43            0.57        1.8\n",
       "9  2019-10-01  210            0.62            0.38        2.6\n",
       "10 2019-11-01  214            0.70            0.30        3.3\n",
       "11 2019-12-01  245            0.69            0.31        3.2"
      ]
     },
     "execution_count": 30,
     "metadata": {},
     "output_type": "execute_result"
    }
   ],
   "source": [
    "report[['month', 'num_customers', 'retention_rate', 'churn_rate', 'clt']]"
   ]
  },
  {
   "cell_type": "markdown",
   "metadata": {},
   "source": [
    "## Revenue Metrics\n"
   ]
  },
  {
   "cell_type": "markdown",
   "metadata": {},
   "source": [
    "### Average Revenue Per Account (ARPA)\n",
    "\n",
    "_The average revenue generated per account (customer) within a specific time\n",
    "frame. For example, monthly._\n"
   ]
  },
  {
   "cell_type": "code",
   "execution_count": 31,
   "metadata": {},
   "outputs": [
    {
     "data": {
      "application/vnd.plotly.v1+json": {
       "config": {
        "plotlyServerURL": "https://plot.ly"
       },
       "data": [
        {
         "alignmentgroup": "True",
         "hovertemplate": "month=%{x}<br>arpa=%{text}<extra></extra>",
         "legendgroup": "",
         "marker": {
          "color": "#636efa",
          "pattern": {
           "shape": ""
          }
         },
         "name": "",
         "offsetgroup": "",
         "orientation": "v",
         "showlegend": false,
         "text": [
          1317,
          1962,
          1341,
          1275,
          1189,
          1173,
          1386,
          1081,
          1394,
          1479,
          1699,
          1149
         ],
         "textangle": 1,
         "textfont": {
          "color": "white"
         },
         "textposition": "auto",
         "type": "bar",
         "x": [
          "2019-01-01T00:00:00",
          "2019-02-01T00:00:00",
          "2019-03-01T00:00:00",
          "2019-04-01T00:00:00",
          "2019-05-01T00:00:00",
          "2019-06-01T00:00:00",
          "2019-07-01T00:00:00",
          "2019-08-01T00:00:00",
          "2019-09-01T00:00:00",
          "2019-10-01T00:00:00",
          "2019-11-01T00:00:00",
          "2019-12-01T00:00:00"
         ],
         "xaxis": "x",
         "y": [
          1317,
          1962,
          1341,
          1275,
          1189,
          1173,
          1386,
          1081,
          1394,
          1479,
          1699,
          1149
         ],
         "yaxis": "y"
        }
       ],
       "layout": {
        "barmode": "group",
        "legend": {
         "tracegroupgap": 0
        },
        "template": {
         "data": {
          "bar": [
           {
            "error_x": {
             "color": "#f2f5fa"
            },
            "error_y": {
             "color": "#f2f5fa"
            },
            "marker": {
             "line": {
              "color": "rgb(17,17,17)",
              "width": 0.5
             },
             "pattern": {
              "fillmode": "overlay",
              "size": 10,
              "solidity": 0.2
             }
            },
            "type": "bar"
           }
          ],
          "barpolar": [
           {
            "marker": {
             "line": {
              "color": "rgb(17,17,17)",
              "width": 0.5
             },
             "pattern": {
              "fillmode": "overlay",
              "size": 10,
              "solidity": 0.2
             }
            },
            "type": "barpolar"
           }
          ],
          "carpet": [
           {
            "aaxis": {
             "endlinecolor": "#A2B1C6",
             "gridcolor": "#506784",
             "linecolor": "#506784",
             "minorgridcolor": "#506784",
             "startlinecolor": "#A2B1C6"
            },
            "baxis": {
             "endlinecolor": "#A2B1C6",
             "gridcolor": "#506784",
             "linecolor": "#506784",
             "minorgridcolor": "#506784",
             "startlinecolor": "#A2B1C6"
            },
            "type": "carpet"
           }
          ],
          "choropleth": [
           {
            "colorbar": {
             "outlinewidth": 0,
             "ticks": ""
            },
            "type": "choropleth"
           }
          ],
          "contour": [
           {
            "colorbar": {
             "outlinewidth": 0,
             "ticks": ""
            },
            "colorscale": [
             [
              0,
              "#0d0887"
             ],
             [
              0.1111111111111111,
              "#46039f"
             ],
             [
              0.2222222222222222,
              "#7201a8"
             ],
             [
              0.3333333333333333,
              "#9c179e"
             ],
             [
              0.4444444444444444,
              "#bd3786"
             ],
             [
              0.5555555555555556,
              "#d8576b"
             ],
             [
              0.6666666666666666,
              "#ed7953"
             ],
             [
              0.7777777777777778,
              "#fb9f3a"
             ],
             [
              0.8888888888888888,
              "#fdca26"
             ],
             [
              1,
              "#f0f921"
             ]
            ],
            "type": "contour"
           }
          ],
          "contourcarpet": [
           {
            "colorbar": {
             "outlinewidth": 0,
             "ticks": ""
            },
            "type": "contourcarpet"
           }
          ],
          "heatmap": [
           {
            "colorbar": {
             "outlinewidth": 0,
             "ticks": ""
            },
            "colorscale": [
             [
              0,
              "#0d0887"
             ],
             [
              0.1111111111111111,
              "#46039f"
             ],
             [
              0.2222222222222222,
              "#7201a8"
             ],
             [
              0.3333333333333333,
              "#9c179e"
             ],
             [
              0.4444444444444444,
              "#bd3786"
             ],
             [
              0.5555555555555556,
              "#d8576b"
             ],
             [
              0.6666666666666666,
              "#ed7953"
             ],
             [
              0.7777777777777778,
              "#fb9f3a"
             ],
             [
              0.8888888888888888,
              "#fdca26"
             ],
             [
              1,
              "#f0f921"
             ]
            ],
            "type": "heatmap"
           }
          ],
          "heatmapgl": [
           {
            "colorbar": {
             "outlinewidth": 0,
             "ticks": ""
            },
            "colorscale": [
             [
              0,
              "#0d0887"
             ],
             [
              0.1111111111111111,
              "#46039f"
             ],
             [
              0.2222222222222222,
              "#7201a8"
             ],
             [
              0.3333333333333333,
              "#9c179e"
             ],
             [
              0.4444444444444444,
              "#bd3786"
             ],
             [
              0.5555555555555556,
              "#d8576b"
             ],
             [
              0.6666666666666666,
              "#ed7953"
             ],
             [
              0.7777777777777778,
              "#fb9f3a"
             ],
             [
              0.8888888888888888,
              "#fdca26"
             ],
             [
              1,
              "#f0f921"
             ]
            ],
            "type": "heatmapgl"
           }
          ],
          "histogram": [
           {
            "marker": {
             "pattern": {
              "fillmode": "overlay",
              "size": 10,
              "solidity": 0.2
             }
            },
            "type": "histogram"
           }
          ],
          "histogram2d": [
           {
            "colorbar": {
             "outlinewidth": 0,
             "ticks": ""
            },
            "colorscale": [
             [
              0,
              "#0d0887"
             ],
             [
              0.1111111111111111,
              "#46039f"
             ],
             [
              0.2222222222222222,
              "#7201a8"
             ],
             [
              0.3333333333333333,
              "#9c179e"
             ],
             [
              0.4444444444444444,
              "#bd3786"
             ],
             [
              0.5555555555555556,
              "#d8576b"
             ],
             [
              0.6666666666666666,
              "#ed7953"
             ],
             [
              0.7777777777777778,
              "#fb9f3a"
             ],
             [
              0.8888888888888888,
              "#fdca26"
             ],
             [
              1,
              "#f0f921"
             ]
            ],
            "type": "histogram2d"
           }
          ],
          "histogram2dcontour": [
           {
            "colorbar": {
             "outlinewidth": 0,
             "ticks": ""
            },
            "colorscale": [
             [
              0,
              "#0d0887"
             ],
             [
              0.1111111111111111,
              "#46039f"
             ],
             [
              0.2222222222222222,
              "#7201a8"
             ],
             [
              0.3333333333333333,
              "#9c179e"
             ],
             [
              0.4444444444444444,
              "#bd3786"
             ],
             [
              0.5555555555555556,
              "#d8576b"
             ],
             [
              0.6666666666666666,
              "#ed7953"
             ],
             [
              0.7777777777777778,
              "#fb9f3a"
             ],
             [
              0.8888888888888888,
              "#fdca26"
             ],
             [
              1,
              "#f0f921"
             ]
            ],
            "type": "histogram2dcontour"
           }
          ],
          "mesh3d": [
           {
            "colorbar": {
             "outlinewidth": 0,
             "ticks": ""
            },
            "type": "mesh3d"
           }
          ],
          "parcoords": [
           {
            "line": {
             "colorbar": {
              "outlinewidth": 0,
              "ticks": ""
             }
            },
            "type": "parcoords"
           }
          ],
          "pie": [
           {
            "automargin": true,
            "type": "pie"
           }
          ],
          "scatter": [
           {
            "marker": {
             "line": {
              "color": "#283442"
             }
            },
            "type": "scatter"
           }
          ],
          "scatter3d": [
           {
            "line": {
             "colorbar": {
              "outlinewidth": 0,
              "ticks": ""
             }
            },
            "marker": {
             "colorbar": {
              "outlinewidth": 0,
              "ticks": ""
             }
            },
            "type": "scatter3d"
           }
          ],
          "scattercarpet": [
           {
            "marker": {
             "colorbar": {
              "outlinewidth": 0,
              "ticks": ""
             }
            },
            "type": "scattercarpet"
           }
          ],
          "scattergeo": [
           {
            "marker": {
             "colorbar": {
              "outlinewidth": 0,
              "ticks": ""
             }
            },
            "type": "scattergeo"
           }
          ],
          "scattergl": [
           {
            "marker": {
             "line": {
              "color": "#283442"
             }
            },
            "type": "scattergl"
           }
          ],
          "scattermapbox": [
           {
            "marker": {
             "colorbar": {
              "outlinewidth": 0,
              "ticks": ""
             }
            },
            "type": "scattermapbox"
           }
          ],
          "scatterpolar": [
           {
            "marker": {
             "colorbar": {
              "outlinewidth": 0,
              "ticks": ""
             }
            },
            "type": "scatterpolar"
           }
          ],
          "scatterpolargl": [
           {
            "marker": {
             "colorbar": {
              "outlinewidth": 0,
              "ticks": ""
             }
            },
            "type": "scatterpolargl"
           }
          ],
          "scatterternary": [
           {
            "marker": {
             "colorbar": {
              "outlinewidth": 0,
              "ticks": ""
             }
            },
            "type": "scatterternary"
           }
          ],
          "surface": [
           {
            "colorbar": {
             "outlinewidth": 0,
             "ticks": ""
            },
            "colorscale": [
             [
              0,
              "#0d0887"
             ],
             [
              0.1111111111111111,
              "#46039f"
             ],
             [
              0.2222222222222222,
              "#7201a8"
             ],
             [
              0.3333333333333333,
              "#9c179e"
             ],
             [
              0.4444444444444444,
              "#bd3786"
             ],
             [
              0.5555555555555556,
              "#d8576b"
             ],
             [
              0.6666666666666666,
              "#ed7953"
             ],
             [
              0.7777777777777778,
              "#fb9f3a"
             ],
             [
              0.8888888888888888,
              "#fdca26"
             ],
             [
              1,
              "#f0f921"
             ]
            ],
            "type": "surface"
           }
          ],
          "table": [
           {
            "cells": {
             "fill": {
              "color": "#506784"
             },
             "line": {
              "color": "rgb(17,17,17)"
             }
            },
            "header": {
             "fill": {
              "color": "#2a3f5f"
             },
             "line": {
              "color": "rgb(17,17,17)"
             }
            },
            "type": "table"
           }
          ]
         },
         "layout": {
          "annotationdefaults": {
           "arrowcolor": "#f2f5fa",
           "arrowhead": 0,
           "arrowwidth": 1
          },
          "autotypenumbers": "strict",
          "coloraxis": {
           "colorbar": {
            "outlinewidth": 0,
            "ticks": ""
           }
          },
          "colorscale": {
           "diverging": [
            [
             0,
             "#8e0152"
            ],
            [
             0.1,
             "#c51b7d"
            ],
            [
             0.2,
             "#de77ae"
            ],
            [
             0.3,
             "#f1b6da"
            ],
            [
             0.4,
             "#fde0ef"
            ],
            [
             0.5,
             "#f7f7f7"
            ],
            [
             0.6,
             "#e6f5d0"
            ],
            [
             0.7,
             "#b8e186"
            ],
            [
             0.8,
             "#7fbc41"
            ],
            [
             0.9,
             "#4d9221"
            ],
            [
             1,
             "#276419"
            ]
           ],
           "sequential": [
            [
             0,
             "#0d0887"
            ],
            [
             0.1111111111111111,
             "#46039f"
            ],
            [
             0.2222222222222222,
             "#7201a8"
            ],
            [
             0.3333333333333333,
             "#9c179e"
            ],
            [
             0.4444444444444444,
             "#bd3786"
            ],
            [
             0.5555555555555556,
             "#d8576b"
            ],
            [
             0.6666666666666666,
             "#ed7953"
            ],
            [
             0.7777777777777778,
             "#fb9f3a"
            ],
            [
             0.8888888888888888,
             "#fdca26"
            ],
            [
             1,
             "#f0f921"
            ]
           ],
           "sequentialminus": [
            [
             0,
             "#0d0887"
            ],
            [
             0.1111111111111111,
             "#46039f"
            ],
            [
             0.2222222222222222,
             "#7201a8"
            ],
            [
             0.3333333333333333,
             "#9c179e"
            ],
            [
             0.4444444444444444,
             "#bd3786"
            ],
            [
             0.5555555555555556,
             "#d8576b"
            ],
            [
             0.6666666666666666,
             "#ed7953"
            ],
            [
             0.7777777777777778,
             "#fb9f3a"
            ],
            [
             0.8888888888888888,
             "#fdca26"
            ],
            [
             1,
             "#f0f921"
            ]
           ]
          },
          "colorway": [
           "#636efa",
           "#EF553B",
           "#00cc96",
           "#ab63fa",
           "#FFA15A",
           "#19d3f3",
           "#FF6692",
           "#B6E880",
           "#FF97FF",
           "#FECB52"
          ],
          "font": {
           "color": "#f2f5fa"
          },
          "geo": {
           "bgcolor": "rgb(17,17,17)",
           "lakecolor": "rgb(17,17,17)",
           "landcolor": "rgb(17,17,17)",
           "showlakes": true,
           "showland": true,
           "subunitcolor": "#506784"
          },
          "hoverlabel": {
           "align": "left"
          },
          "hovermode": "closest",
          "mapbox": {
           "style": "dark"
          },
          "paper_bgcolor": "rgb(17,17,17)",
          "plot_bgcolor": "rgb(17,17,17)",
          "polar": {
           "angularaxis": {
            "gridcolor": "#506784",
            "linecolor": "#506784",
            "ticks": ""
           },
           "bgcolor": "rgb(17,17,17)",
           "radialaxis": {
            "gridcolor": "#506784",
            "linecolor": "#506784",
            "ticks": ""
           }
          },
          "scene": {
           "xaxis": {
            "backgroundcolor": "rgb(17,17,17)",
            "gridcolor": "#506784",
            "gridwidth": 2,
            "linecolor": "#506784",
            "showbackground": true,
            "ticks": "",
            "zerolinecolor": "#C8D4E3"
           },
           "yaxis": {
            "backgroundcolor": "rgb(17,17,17)",
            "gridcolor": "#506784",
            "gridwidth": 2,
            "linecolor": "#506784",
            "showbackground": true,
            "ticks": "",
            "zerolinecolor": "#C8D4E3"
           },
           "zaxis": {
            "backgroundcolor": "rgb(17,17,17)",
            "gridcolor": "#506784",
            "gridwidth": 2,
            "linecolor": "#506784",
            "showbackground": true,
            "ticks": "",
            "zerolinecolor": "#C8D4E3"
           }
          },
          "shapedefaults": {
           "line": {
            "color": "#f2f5fa"
           }
          },
          "sliderdefaults": {
           "bgcolor": "#C8D4E3",
           "bordercolor": "rgb(17,17,17)",
           "borderwidth": 1,
           "tickwidth": 0
          },
          "ternary": {
           "aaxis": {
            "gridcolor": "#506784",
            "linecolor": "#506784",
            "ticks": ""
           },
           "baxis": {
            "gridcolor": "#506784",
            "linecolor": "#506784",
            "ticks": ""
           },
           "bgcolor": "rgb(17,17,17)",
           "caxis": {
            "gridcolor": "#506784",
            "linecolor": "#506784",
            "ticks": ""
           }
          },
          "title": {
           "x": 0.05
          },
          "updatemenudefaults": {
           "bgcolor": "#506784",
           "borderwidth": 0
          },
          "xaxis": {
           "automargin": true,
           "gridcolor": "#283442",
           "linecolor": "#506784",
           "ticks": "",
           "title": {
            "standoff": 15
           },
           "zerolinecolor": "#283442",
           "zerolinewidth": 2
          },
          "yaxis": {
           "automargin": true,
           "gridcolor": "#283442",
           "linecolor": "#506784",
           "ticks": "",
           "title": {
            "standoff": 15
           },
           "zerolinecolor": "#283442",
           "zerolinewidth": 2
          }
         }
        },
        "title": {
         "text": "Average Revenue Per Account (ARPA)"
        },
        "xaxis": {
         "anchor": "y",
         "domain": [
          0,
          1
         ],
         "showgrid": false,
         "title": {
          "text": "month"
         }
        },
        "yaxis": {
         "anchor": "x",
         "domain": [
          0,
          1
         ],
         "showgrid": false,
         "title": {
          "text": "arpa"
         },
         "visible": false
        }
       }
      }
     },
     "metadata": {},
     "output_type": "display_data"
    }
   ],
   "source": [
    "report['arpa'] = (report['total_amount_sum'] / report['num_customers']).astype('int')\n",
    "vt.plot_bar_graph(report, axis_x='month', axis_y='arpa', label='arpa', title='Average Revenue Per Account (ARPA)')"
   ]
  },
  {
   "cell_type": "markdown",
   "metadata": {},
   "source": [
    "### Customer Lifetime Value\n",
    "\n",
    "_The total revenue a user generates during their entire relationship with the\n",
    "product._\n",
    "\n",
    "𝐶𝐿T𝑉 = 𝐶𝑢𝑠𝑡𝑜𝑚𝑒𝑟 𝐿𝑖𝑓𝑒𝑡𝑖𝑚𝑒 ∗𝐴𝑅𝑃𝐴\n"
   ]
  },
  {
   "cell_type": "code",
   "execution_count": 32,
   "metadata": {},
   "outputs": [],
   "source": [
    "report['cltv'] = (report['arpa'] * report['clt']).astype('int')"
   ]
  },
  {
   "cell_type": "markdown",
   "metadata": {},
   "source": [
    "### Customer Profitability\n",
    "\n",
    "_The difference between the lifetime value of a customer (CLTV) and the cost of\n",
    "acquiring them_\n"
   ]
  },
  {
   "cell_type": "code",
   "execution_count": 33,
   "metadata": {},
   "outputs": [],
   "source": [
    "report['customer_profitability'] = report['cltv'] - report['cac']"
   ]
  },
  {
   "cell_type": "markdown",
   "metadata": {},
   "source": [
    "### CLTV/CAC Ratio\n",
    "\n",
    "_The Customer Lifetime Value (LTV) to Customer Acquisition Cost (CAC) Ratio\n",
    "measures the relationship between the lifetime value of a customer and the cost\n",
    "of acquiring that customer_\n"
   ]
  },
  {
   "cell_type": "code",
   "execution_count": 34,
   "metadata": {},
   "outputs": [],
   "source": [
    "report['cltv_cac_ratio'] = (report['cltv'] / report['cac']).round(1)"
   ]
  },
  {
   "cell_type": "markdown",
   "metadata": {},
   "source": [
    "## Revenue Churn\n",
    "\n",
    "_The revenue lost due to customer cancellations, downgrades, or nonrenewals\n",
    "within a specific time period, typically a month/year_\n"
   ]
  },
  {
   "cell_type": "code",
   "execution_count": 35,
   "metadata": {},
   "outputs": [],
   "source": [
    "report['revenue_churn'] = (report['total_amount_sum'] * report['churn_rate']).astype('int')"
   ]
  },
  {
   "cell_type": "code",
   "execution_count": 36,
   "metadata": {},
   "outputs": [],
   "source": [
    "report['revenue_churn_rate'] = report['total_amount_sum'].pct_change().fillna(0).round(2)"
   ]
  },
  {
   "cell_type": "code",
   "execution_count": 37,
   "metadata": {},
   "outputs": [
    {
     "data": {
      "text/html": [
       "<div>\n",
       "<style scoped>\n",
       "    .dataframe tbody tr th:only-of-type {\n",
       "        vertical-align: middle;\n",
       "    }\n",
       "\n",
       "    .dataframe tbody tr th {\n",
       "        vertical-align: top;\n",
       "    }\n",
       "\n",
       "    .dataframe thead th {\n",
       "        text-align: right;\n",
       "    }\n",
       "</style>\n",
       "<table border=\"1\" class=\"dataframe\">\n",
       "  <thead>\n",
       "    <tr style=\"text-align: right;\">\n",
       "      <th></th>\n",
       "      <th>month</th>\n",
       "      <th>num_customers</th>\n",
       "      <th>num_transactions</th>\n",
       "      <th>quantity_items_sold</th>\n",
       "      <th>delivery_charges_sum</th>\n",
       "      <th>discount_amount_sum</th>\n",
       "      <th>total_amount_sum</th>\n",
       "      <th>num_coupons_used</th>\n",
       "      <th>num_new_users</th>\n",
       "      <th>num_products_unique</th>\n",
       "      <th>num_categories_unique</th>\n",
       "      <th>marketing_costs</th>\n",
       "      <th>new_customers_rate</th>\n",
       "      <th>aov</th>\n",
       "      <th>avg_num_orders_per_customer</th>\n",
       "      <th>avg_items_per_order</th>\n",
       "      <th>cac</th>\n",
       "      <th>retention_rate</th>\n",
       "      <th>churn_rate</th>\n",
       "      <th>clt</th>\n",
       "      <th>arpa</th>\n",
       "      <th>cltv</th>\n",
       "      <th>customer_profitability</th>\n",
       "      <th>cltv_cac_ratio</th>\n",
       "      <th>revenue_churn</th>\n",
       "      <th>revenue_churn_rate</th>\n",
       "    </tr>\n",
       "  </thead>\n",
       "  <tbody>\n",
       "    <tr>\n",
       "      <th>0</th>\n",
       "      <td>2019-01-01</td>\n",
       "      <td>232</td>\n",
       "      <td>2190</td>\n",
       "      <td>8161</td>\n",
       "      <td>53423.20</td>\n",
       "      <td>8515.453</td>\n",
       "      <td>305718.147</td>\n",
       "      <td>1434</td>\n",
       "      <td>232</td>\n",
       "      <td>647</td>\n",
       "      <td>20</td>\n",
       "      <td>47957.13</td>\n",
       "      <td>100.0</td>\n",
       "      <td>139.60</td>\n",
       "      <td>9</td>\n",
       "      <td>3</td>\n",
       "      <td>206</td>\n",
       "      <td>1.00</td>\n",
       "      <td>0.00</td>\n",
       "      <td>1.0</td>\n",
       "      <td>1317</td>\n",
       "      <td>1317</td>\n",
       "      <td>1111</td>\n",
       "      <td>6.4</td>\n",
       "      <td>0</td>\n",
       "      <td>0.00</td>\n",
       "    </tr>\n",
       "    <tr>\n",
       "      <th>1</th>\n",
       "      <td>2019-02-01</td>\n",
       "      <td>141</td>\n",
       "      <td>1813</td>\n",
       "      <td>6734</td>\n",
       "      <td>47453.10</td>\n",
       "      <td>15638.496</td>\n",
       "      <td>276769.684</td>\n",
       "      <td>1189</td>\n",
       "      <td>114</td>\n",
       "      <td>638</td>\n",
       "      <td>20</td>\n",
       "      <td>52169.73</td>\n",
       "      <td>80.9</td>\n",
       "      <td>152.66</td>\n",
       "      <td>12</td>\n",
       "      <td>3</td>\n",
       "      <td>457</td>\n",
       "      <td>0.12</td>\n",
       "      <td>0.88</td>\n",
       "      <td>1.1</td>\n",
       "      <td>1962</td>\n",
       "      <td>2158</td>\n",
       "      <td>1701</td>\n",
       "      <td>4.7</td>\n",
       "      <td>243557</td>\n",
       "      <td>-0.09</td>\n",
       "    </tr>\n",
       "    <tr>\n",
       "      <th>2</th>\n",
       "      <td>2019-03-01</td>\n",
       "      <td>229</td>\n",
       "      <td>2207</td>\n",
       "      <td>9023</td>\n",
       "      <td>54951.94</td>\n",
       "      <td>31110.072</td>\n",
       "      <td>307172.668</td>\n",
       "      <td>1510</td>\n",
       "      <td>166</td>\n",
       "      <td>727</td>\n",
       "      <td>20</td>\n",
       "      <td>53360.17</td>\n",
       "      <td>72.5</td>\n",
       "      <td>139.18</td>\n",
       "      <td>9</td>\n",
       "      <td>4</td>\n",
       "      <td>321</td>\n",
       "      <td>0.45</td>\n",
       "      <td>0.55</td>\n",
       "      <td>1.8</td>\n",
       "      <td>1341</td>\n",
       "      <td>2413</td>\n",
       "      <td>2092</td>\n",
       "      <td>7.5</td>\n",
       "      <td>168944</td>\n",
       "      <td>0.11</td>\n",
       "    </tr>\n",
       "    <tr>\n",
       "      <th>3</th>\n",
       "      <td>2019-04-01</td>\n",
       "      <td>236</td>\n",
       "      <td>2113</td>\n",
       "      <td>8022</td>\n",
       "      <td>41451.19</td>\n",
       "      <td>9007.977</td>\n",
       "      <td>301089.883</td>\n",
       "      <td>1457</td>\n",
       "      <td>151</td>\n",
       "      <td>697</td>\n",
       "      <td>19</td>\n",
       "      <td>60971.90</td>\n",
       "      <td>64.0</td>\n",
       "      <td>142.49</td>\n",
       "      <td>8</td>\n",
       "      <td>3</td>\n",
       "      <td>403</td>\n",
       "      <td>0.37</td>\n",
       "      <td>0.63</td>\n",
       "      <td>1.6</td>\n",
       "      <td>1275</td>\n",
       "      <td>2040</td>\n",
       "      <td>1637</td>\n",
       "      <td>5.1</td>\n",
       "      <td>189686</td>\n",
       "      <td>-0.02</td>\n",
       "    </tr>\n",
       "    <tr>\n",
       "      <th>4</th>\n",
       "      <td>2019-05-01</td>\n",
       "      <td>236</td>\n",
       "      <td>2120</td>\n",
       "      <td>8262</td>\n",
       "      <td>40364.35</td>\n",
       "      <td>17096.238</td>\n",
       "      <td>280802.552</td>\n",
       "      <td>1423</td>\n",
       "      <td>119</td>\n",
       "      <td>705</td>\n",
       "      <td>20</td>\n",
       "      <td>58299.30</td>\n",
       "      <td>50.4</td>\n",
       "      <td>132.45</td>\n",
       "      <td>8</td>\n",
       "      <td>3</td>\n",
       "      <td>489</td>\n",
       "      <td>0.50</td>\n",
       "      <td>0.50</td>\n",
       "      <td>2.0</td>\n",
       "      <td>1189</td>\n",
       "      <td>2378</td>\n",
       "      <td>1889</td>\n",
       "      <td>4.9</td>\n",
       "      <td>140401</td>\n",
       "      <td>-0.07</td>\n",
       "    </tr>\n",
       "    <tr>\n",
       "      <th>5</th>\n",
       "      <td>2019-06-01</td>\n",
       "      <td>254</td>\n",
       "      <td>2194</td>\n",
       "      <td>8170</td>\n",
       "      <td>43052.44</td>\n",
       "      <td>28288.458</td>\n",
       "      <td>298113.802</td>\n",
       "      <td>1519</td>\n",
       "      <td>140</td>\n",
       "      <td>714</td>\n",
       "      <td>20</td>\n",
       "      <td>56556.44</td>\n",
       "      <td>55.1</td>\n",
       "      <td>135.88</td>\n",
       "      <td>8</td>\n",
       "      <td>3</td>\n",
       "      <td>403</td>\n",
       "      <td>0.48</td>\n",
       "      <td>0.52</td>\n",
       "      <td>1.9</td>\n",
       "      <td>1173</td>\n",
       "      <td>2228</td>\n",
       "      <td>1825</td>\n",
       "      <td>5.5</td>\n",
       "      <td>155019</td>\n",
       "      <td>0.06</td>\n",
       "    </tr>\n",
       "    <tr>\n",
       "      <th>6</th>\n",
       "      <td>2019-07-01</td>\n",
       "      <td>252</td>\n",
       "      <td>2359</td>\n",
       "      <td>10806</td>\n",
       "      <td>55435.80</td>\n",
       "      <td>10286.504</td>\n",
       "      <td>349513.636</td>\n",
       "      <td>1890</td>\n",
       "      <td>100</td>\n",
       "      <td>728</td>\n",
       "      <td>20</td>\n",
       "      <td>58170.91</td>\n",
       "      <td>39.7</td>\n",
       "      <td>148.16</td>\n",
       "      <td>9</td>\n",
       "      <td>4</td>\n",
       "      <td>581</td>\n",
       "      <td>0.60</td>\n",
       "      <td>0.40</td>\n",
       "      <td>2.5</td>\n",
       "      <td>1386</td>\n",
       "      <td>3465</td>\n",
       "      <td>2884</td>\n",
       "      <td>6.0</td>\n",
       "      <td>139805</td>\n",
       "      <td>0.17</td>\n",
       "    </tr>\n",
       "    <tr>\n",
       "      <th>7</th>\n",
       "      <td>2019-08-01</td>\n",
       "      <td>276</td>\n",
       "      <td>2420</td>\n",
       "      <td>9389</td>\n",
       "      <td>49014.73</td>\n",
       "      <td>18399.580</td>\n",
       "      <td>298456.990</td>\n",
       "      <td>1796</td>\n",
       "      <td>116</td>\n",
       "      <td>599</td>\n",
       "      <td>19</td>\n",
       "      <td>57501.34</td>\n",
       "      <td>42.0</td>\n",
       "      <td>123.33</td>\n",
       "      <td>8</td>\n",
       "      <td>3</td>\n",
       "      <td>495</td>\n",
       "      <td>0.63</td>\n",
       "      <td>0.37</td>\n",
       "      <td>2.7</td>\n",
       "      <td>1081</td>\n",
       "      <td>2918</td>\n",
       "      <td>2423</td>\n",
       "      <td>5.9</td>\n",
       "      <td>110429</td>\n",
       "      <td>-0.15</td>\n",
       "    </tr>\n",
       "    <tr>\n",
       "      <th>8</th>\n",
       "      <td>2019-09-01</td>\n",
       "      <td>195</td>\n",
       "      <td>2108</td>\n",
       "      <td>8035</td>\n",
       "      <td>44077.33</td>\n",
       "      <td>25545.582</td>\n",
       "      <td>271918.008</td>\n",
       "      <td>1407</td>\n",
       "      <td>77</td>\n",
       "      <td>593</td>\n",
       "      <td>20</td>\n",
       "      <td>58383.08</td>\n",
       "      <td>39.5</td>\n",
       "      <td>128.99</td>\n",
       "      <td>10</td>\n",
       "      <td>3</td>\n",
       "      <td>758</td>\n",
       "      <td>0.43</td>\n",
       "      <td>0.57</td>\n",
       "      <td>1.8</td>\n",
       "      <td>1394</td>\n",
       "      <td>2509</td>\n",
       "      <td>1751</td>\n",
       "      <td>3.3</td>\n",
       "      <td>154993</td>\n",
       "      <td>-0.09</td>\n",
       "    </tr>\n",
       "    <tr>\n",
       "      <th>9</th>\n",
       "      <td>2019-10-01</td>\n",
       "      <td>210</td>\n",
       "      <td>2095</td>\n",
       "      <td>7808</td>\n",
       "      <td>49499.20</td>\n",
       "      <td>8986.311</td>\n",
       "      <td>310779.799</td>\n",
       "      <td>1318</td>\n",
       "      <td>89</td>\n",
       "      <td>561</td>\n",
       "      <td>20</td>\n",
       "      <td>59172.41</td>\n",
       "      <td>42.4</td>\n",
       "      <td>148.34</td>\n",
       "      <td>9</td>\n",
       "      <td>3</td>\n",
       "      <td>664</td>\n",
       "      <td>0.62</td>\n",
       "      <td>0.38</td>\n",
       "      <td>2.6</td>\n",
       "      <td>1479</td>\n",
       "      <td>3845</td>\n",
       "      <td>3181</td>\n",
       "      <td>5.8</td>\n",
       "      <td>118096</td>\n",
       "      <td>0.14</td>\n",
       "    </tr>\n",
       "    <tr>\n",
       "      <th>10</th>\n",
       "      <td>2019-11-01</td>\n",
       "      <td>214</td>\n",
       "      <td>2527</td>\n",
       "      <td>8063</td>\n",
       "      <td>38923.16</td>\n",
       "      <td>23710.300</td>\n",
       "      <td>363768.530</td>\n",
       "      <td>1533</td>\n",
       "      <td>66</td>\n",
       "      <td>569</td>\n",
       "      <td>19</td>\n",
       "      <td>61123.77</td>\n",
       "      <td>30.8</td>\n",
       "      <td>143.95</td>\n",
       "      <td>11</td>\n",
       "      <td>3</td>\n",
       "      <td>926</td>\n",
       "      <td>0.70</td>\n",
       "      <td>0.30</td>\n",
       "      <td>3.3</td>\n",
       "      <td>1699</td>\n",
       "      <td>5606</td>\n",
       "      <td>4680</td>\n",
       "      <td>6.1</td>\n",
       "      <td>109130</td>\n",
       "      <td>0.17</td>\n",
       "    </tr>\n",
       "    <tr>\n",
       "      <th>11</th>\n",
       "      <td>2019-12-01</td>\n",
       "      <td>245</td>\n",
       "      <td>2485</td>\n",
       "      <td>7154</td>\n",
       "      <td>38988.63</td>\n",
       "      <td>26362.809</td>\n",
       "      <td>281698.871</td>\n",
       "      <td>1428</td>\n",
       "      <td>98</td>\n",
       "      <td>579</td>\n",
       "      <td>19</td>\n",
       "      <td>72710.59</td>\n",
       "      <td>40.0</td>\n",
       "      <td>113.36</td>\n",
       "      <td>10</td>\n",
       "      <td>2</td>\n",
       "      <td>741</td>\n",
       "      <td>0.69</td>\n",
       "      <td>0.31</td>\n",
       "      <td>3.2</td>\n",
       "      <td>1149</td>\n",
       "      <td>3676</td>\n",
       "      <td>2935</td>\n",
       "      <td>5.0</td>\n",
       "      <td>87326</td>\n",
       "      <td>-0.23</td>\n",
       "    </tr>\n",
       "  </tbody>\n",
       "</table>\n",
       "</div>"
      ],
      "text/plain": [
       "        month  num_customers  num_transactions  quantity_items_sold   \n",
       "0  2019-01-01  232            2190              8161                 \\\n",
       "1  2019-02-01  141            1813              6734                  \n",
       "2  2019-03-01  229            2207              9023                  \n",
       "3  2019-04-01  236            2113              8022                  \n",
       "4  2019-05-01  236            2120              8262                  \n",
       "5  2019-06-01  254            2194              8170                  \n",
       "6  2019-07-01  252            2359              10806                 \n",
       "7  2019-08-01  276            2420              9389                  \n",
       "8  2019-09-01  195            2108              8035                  \n",
       "9  2019-10-01  210            2095              7808                  \n",
       "10 2019-11-01  214            2527              8063                  \n",
       "11 2019-12-01  245            2485              7154                  \n",
       "\n",
       "    delivery_charges_sum  discount_amount_sum  total_amount_sum   \n",
       "0   53423.20              8515.453             305718.147        \\\n",
       "1   47453.10              15638.496            276769.684         \n",
       "2   54951.94              31110.072            307172.668         \n",
       "3   41451.19              9007.977             301089.883         \n",
       "4   40364.35              17096.238            280802.552         \n",
       "5   43052.44              28288.458            298113.802         \n",
       "6   55435.80              10286.504            349513.636         \n",
       "7   49014.73              18399.580            298456.990         \n",
       "8   44077.33              25545.582            271918.008         \n",
       "9   49499.20              8986.311             310779.799         \n",
       "10  38923.16              23710.300            363768.530         \n",
       "11  38988.63              26362.809            281698.871         \n",
       "\n",
       "    num_coupons_used  num_new_users  num_products_unique   \n",
       "0   1434              232            647                  \\\n",
       "1   1189              114            638                   \n",
       "2   1510              166            727                   \n",
       "3   1457              151            697                   \n",
       "4   1423              119            705                   \n",
       "5   1519              140            714                   \n",
       "6   1890              100            728                   \n",
       "7   1796              116            599                   \n",
       "8   1407              77             593                   \n",
       "9   1318              89             561                   \n",
       "10  1533              66             569                   \n",
       "11  1428              98             579                   \n",
       "\n",
       "    num_categories_unique  marketing_costs  new_customers_rate     aov   \n",
       "0   20                     47957.13         100.0               139.60  \\\n",
       "1   20                     52169.73         80.9                152.66   \n",
       "2   20                     53360.17         72.5                139.18   \n",
       "3   19                     60971.90         64.0                142.49   \n",
       "4   20                     58299.30         50.4                132.45   \n",
       "5   20                     56556.44         55.1                135.88   \n",
       "6   20                     58170.91         39.7                148.16   \n",
       "7   19                     57501.34         42.0                123.33   \n",
       "8   20                     58383.08         39.5                128.99   \n",
       "9   20                     59172.41         42.4                148.34   \n",
       "10  19                     61123.77         30.8                143.95   \n",
       "11  19                     72710.59         40.0                113.36   \n",
       "\n",
       "    avg_num_orders_per_customer  avg_items_per_order  cac  retention_rate   \n",
       "0   9                            3                    206  1.00            \\\n",
       "1   12                           3                    457  0.12             \n",
       "2   9                            4                    321  0.45             \n",
       "3   8                            3                    403  0.37             \n",
       "4   8                            3                    489  0.50             \n",
       "5   8                            3                    403  0.48             \n",
       "6   9                            4                    581  0.60             \n",
       "7   8                            3                    495  0.63             \n",
       "8   10                           3                    758  0.43             \n",
       "9   9                            3                    664  0.62             \n",
       "10  11                           3                    926  0.70             \n",
       "11  10                           2                    741  0.69             \n",
       "\n",
       "    churn_rate  clt  arpa  cltv  customer_profitability  cltv_cac_ratio   \n",
       "0   0.00        1.0  1317  1317  1111                    6.4             \\\n",
       "1   0.88        1.1  1962  2158  1701                    4.7              \n",
       "2   0.55        1.8  1341  2413  2092                    7.5              \n",
       "3   0.63        1.6  1275  2040  1637                    5.1              \n",
       "4   0.50        2.0  1189  2378  1889                    4.9              \n",
       "5   0.52        1.9  1173  2228  1825                    5.5              \n",
       "6   0.40        2.5  1386  3465  2884                    6.0              \n",
       "7   0.37        2.7  1081  2918  2423                    5.9              \n",
       "8   0.57        1.8  1394  2509  1751                    3.3              \n",
       "9   0.38        2.6  1479  3845  3181                    5.8              \n",
       "10  0.30        3.3  1699  5606  4680                    6.1              \n",
       "11  0.31        3.2  1149  3676  2935                    5.0              \n",
       "\n",
       "    revenue_churn  revenue_churn_rate  \n",
       "0   0              0.00                \n",
       "1   243557        -0.09                \n",
       "2   168944         0.11                \n",
       "3   189686        -0.02                \n",
       "4   140401        -0.07                \n",
       "5   155019         0.06                \n",
       "6   139805         0.17                \n",
       "7   110429        -0.15                \n",
       "8   154993        -0.09                \n",
       "9   118096         0.14                \n",
       "10  109130         0.17                \n",
       "11  87326         -0.23                "
      ]
     },
     "execution_count": 37,
     "metadata": {},
     "output_type": "execute_result"
    }
   ],
   "source": [
    "report"
   ]
  },
  {
   "cell_type": "markdown",
   "metadata": {},
   "source": [
    "### Save customer analytical table and report to \\*csv file\n"
   ]
  },
  {
   "cell_type": "code",
   "execution_count": 38,
   "metadata": {},
   "outputs": [],
   "source": [
    "path_to_save_at = '../data/processed/'\n",
    "file_at_sales = 'at_sales.csv'\n",
    "\n",
    "hp.write_df_to_csv(at_sales, path_to_save_at, file_at_sales)\n"
   ]
  },
  {
   "cell_type": "code",
   "execution_count": 39,
   "metadata": {},
   "outputs": [],
   "source": [
    "path_to_save_report = '../reports_and_dashboards/'\n",
    "file_report = 'annual_report.csv'\n",
    "hp.write_df_to_csv(report, path_to_save_report, file_report)"
   ]
  },
  {
   "cell_type": "markdown",
   "metadata": {},
   "source": [
    "## The next step of the analysis is building dashboard in Tableau to present findings and insights.\n"
   ]
  }
 ],
 "metadata": {
  "kernelspec": {
   "display_name": "Python 3",
   "language": "python",
   "name": "python3"
  },
  "language_info": {
   "codemirror_mode": {
    "name": "ipython",
    "version": 3
   },
   "file_extension": ".py",
   "mimetype": "text/x-python",
   "name": "python",
   "nbconvert_exporter": "python",
   "pygments_lexer": "ipython3",
   "version": "3.9.16"
  }
 },
 "nbformat": 4,
 "nbformat_minor": 2
}
