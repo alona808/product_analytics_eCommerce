{
 "cells": [
  {
   "cell_type": "markdown",
   "metadata": {},
   "source": [
    "# Title"
   ]
  },
  {
   "cell_type": "markdown",
   "metadata": {},
   "source": [
    "## Import modules"
   ]
  },
  {
   "cell_type": "code",
   "execution_count": 2,
   "metadata": {},
   "outputs": [
    {
     "name": "stdout",
     "output_type": "stream",
     "text": [
      "viztools.py is being imported into module\n",
      "helpers.py is being imported into module\n"
     ]
    }
   ],
   "source": [
    "import os\n",
    "import sys\n",
    "\n",
    "import pandas as pd\n",
    "import numpy as np\n",
    "import datetime as dt\n",
    "\n",
    "# To print all the outputs in the cell\n",
    "from IPython.core.interactiveshell import InteractiveShell\n",
    "InteractiveShell.ast_node_interactivity = \"all\"\n",
    "\n",
    "# To display the full text of a pandas DataFrame\n",
    "pd.set_option('display.max_colwidth', 1) \n",
    "\n",
    "# To display all columns of DataFrame\n",
    "pd.set_option('display.max_columns', None)\n",
    "\n",
    "# To show warnings only once:\n",
    "import warnings; warnings.filterwarnings(action='once')\n",
    "\n",
    "# Set path\n",
    "sys.path.insert(1, '../tools/')\n",
    "import viztools as vt\n",
    "import helpers as hp"
   ]
  },
  {
   "cell_type": "markdown",
   "metadata": {},
   "source": [
    "## Download processed datasets"
   ]
  },
  {
   "cell_type": "code",
   "execution_count": 3,
   "metadata": {},
   "outputs": [],
   "source": [
    "path_to_processed_data = '../data/processed/'\n",
    "file_sales = 'online_sales_details.csv'\n",
    "file_calendar_tbl = 'calendar_tbl.csv'"
   ]
  },
  {
   "cell_type": "markdown",
   "metadata": {},
   "source": [
    "Online sales details"
   ]
  },
  {
   "cell_type": "code",
   "execution_count": 4,
   "metadata": {},
   "outputs": [],
   "source": [
    "sales = pd.read_csv(os.path.join(path_to_processed_data, file_sales))\n",
    "\n",
    "sales['transaction_date'] = pd.to_datetime(sales['transaction_date'])\n",
    "\n",
    "df_sales = sales.copy()"
   ]
  },
  {
   "cell_type": "markdown",
   "metadata": {},
   "source": [
    "Analytical table creation"
   ]
  },
  {
   "cell_type": "code",
   "execution_count": 5,
   "metadata": {},
   "outputs": [
    {
     "data": {
      "text/html": [
       "<div>\n",
       "<style scoped>\n",
       "    .dataframe tbody tr th:only-of-type {\n",
       "        vertical-align: middle;\n",
       "    }\n",
       "\n",
       "    .dataframe tbody tr th {\n",
       "        vertical-align: top;\n",
       "    }\n",
       "\n",
       "    .dataframe thead th {\n",
       "        text-align: right;\n",
       "    }\n",
       "</style>\n",
       "<table border=\"1\" class=\"dataframe\">\n",
       "  <thead>\n",
       "    <tr style=\"text-align: right;\">\n",
       "      <th></th>\n",
       "      <th>customer_id</th>\n",
       "      <th>transaction_id</th>\n",
       "      <th>transaction_date</th>\n",
       "      <th>product_sku</th>\n",
       "      <th>product_description</th>\n",
       "      <th>product_category</th>\n",
       "      <th>quantity</th>\n",
       "      <th>price</th>\n",
       "      <th>delivery_charges</th>\n",
       "      <th>coupon_status</th>\n",
       "      <th>total_price</th>\n",
       "    </tr>\n",
       "  </thead>\n",
       "  <tbody>\n",
       "    <tr>\n",
       "      <th>0</th>\n",
       "      <td>17850</td>\n",
       "      <td>1785016679</td>\n",
       "      <td>2019-01-01</td>\n",
       "      <td>GGOENEBJ079499</td>\n",
       "      <td>Nest Learning Thermostat 3rd Gen-USA - Stainless Steel</td>\n",
       "      <td>Nest-USA</td>\n",
       "      <td>1</td>\n",
       "      <td>153.71</td>\n",
       "      <td>6.5</td>\n",
       "      <td>Used</td>\n",
       "      <td>153.71</td>\n",
       "    </tr>\n",
       "    <tr>\n",
       "      <th>1</th>\n",
       "      <td>17850</td>\n",
       "      <td>1785016680</td>\n",
       "      <td>2019-01-01</td>\n",
       "      <td>GGOENEBJ079499</td>\n",
       "      <td>Nest Learning Thermostat 3rd Gen-USA - Stainless Steel</td>\n",
       "      <td>Nest-USA</td>\n",
       "      <td>1</td>\n",
       "      <td>153.71</td>\n",
       "      <td>6.5</td>\n",
       "      <td>Used</td>\n",
       "      <td>153.71</td>\n",
       "    </tr>\n",
       "    <tr>\n",
       "      <th>2</th>\n",
       "      <td>17850</td>\n",
       "      <td>1785016681</td>\n",
       "      <td>2019-01-01</td>\n",
       "      <td>GGOEGFKQ020399</td>\n",
       "      <td>Google Laptop and Cell Phone Stickers</td>\n",
       "      <td>Office</td>\n",
       "      <td>1</td>\n",
       "      <td>2.05</td>\n",
       "      <td>6.5</td>\n",
       "      <td>Used</td>\n",
       "      <td>2.05</td>\n",
       "    </tr>\n",
       "    <tr>\n",
       "      <th>3</th>\n",
       "      <td>17850</td>\n",
       "      <td>1785016682</td>\n",
       "      <td>2019-01-01</td>\n",
       "      <td>GGOEGAAB010516</td>\n",
       "      <td>Google Men's 100% Cotton Short Sleeve Hero Tee Black</td>\n",
       "      <td>Apparel</td>\n",
       "      <td>5</td>\n",
       "      <td>17.53</td>\n",
       "      <td>6.5</td>\n",
       "      <td>Not Used</td>\n",
       "      <td>87.65</td>\n",
       "    </tr>\n",
       "    <tr>\n",
       "      <th>4</th>\n",
       "      <td>17850</td>\n",
       "      <td>1785016682</td>\n",
       "      <td>2019-01-01</td>\n",
       "      <td>GGOEGBJL013999</td>\n",
       "      <td>Google Canvas Tote Natural/Navy</td>\n",
       "      <td>Bags</td>\n",
       "      <td>1</td>\n",
       "      <td>16.50</td>\n",
       "      <td>6.5</td>\n",
       "      <td>Used</td>\n",
       "      <td>16.50</td>\n",
       "    </tr>\n",
       "  </tbody>\n",
       "</table>\n",
       "</div>"
      ],
      "text/plain": [
       "   customer_id  transaction_id transaction_date     product_sku   \n",
       "0  17850        1785016679     2019-01-01        GGOENEBJ079499  \\\n",
       "1  17850        1785016680     2019-01-01        GGOENEBJ079499   \n",
       "2  17850        1785016681     2019-01-01        GGOEGFKQ020399   \n",
       "3  17850        1785016682     2019-01-01        GGOEGAAB010516   \n",
       "4  17850        1785016682     2019-01-01        GGOEGBJL013999   \n",
       "\n",
       "                                      product_description product_category   \n",
       "0  Nest Learning Thermostat 3rd Gen-USA - Stainless Steel  Nest-USA         \\\n",
       "1  Nest Learning Thermostat 3rd Gen-USA - Stainless Steel  Nest-USA          \n",
       "2  Google Laptop and Cell Phone Stickers                   Office            \n",
       "3  Google Men's 100% Cotton Short Sleeve Hero Tee Black    Apparel           \n",
       "4  Google Canvas Tote Natural/Navy                         Bags              \n",
       "\n",
       "   quantity   price  delivery_charges coupon_status  total_price  \n",
       "0  1         153.71  6.5               Used          153.71       \n",
       "1  1         153.71  6.5               Used          153.71       \n",
       "2  1         2.05    6.5               Used          2.05         \n",
       "3  5         17.53   6.5               Not Used      87.65        \n",
       "4  1         16.50   6.5               Used          16.50        "
      ]
     },
     "execution_count": 5,
     "metadata": {},
     "output_type": "execute_result"
    }
   ],
   "source": [
    "df_sales.head()"
   ]
  },
  {
   "cell_type": "code",
   "execution_count": 6,
   "metadata": {},
   "outputs": [],
   "source": [
    "at_sales = df_sales.groupby(['transaction_date', 'customer_id']).agg({\n",
    "    'transaction_id': 'nunique'\n",
    "    ,'product_category': 'nunique'\n",
    "    ,'quantity': 'sum'\n",
    "    ,'total_price': 'sum'\n",
    "})\\\n",
    "    .reset_index()\\\n",
    "        .sort_values(by='transaction_date', ascending=True)\\\n",
    "            .rename(columns={\n",
    "                'transaction_id': 'transactions_num'\n",
    "                ,'product_category': 'product_category_num'\n",
    "                ,'quantity': 'quantity_sum'\n",
    "                ,'total_price': 'total_price_sum'\n",
    "            })"
   ]
  },
  {
   "cell_type": "markdown",
   "metadata": {},
   "source": [
    "Validate data after aggregating"
   ]
  },
  {
   "cell_type": "code",
   "execution_count": 7,
   "metadata": {},
   "outputs": [
    {
     "data": {
      "text/plain": [
       "4670794.62"
      ]
     },
     "execution_count": 7,
     "metadata": {},
     "output_type": "execute_result"
    },
    {
     "data": {
      "text/plain": [
       "4670794.62"
      ]
     },
     "execution_count": 7,
     "metadata": {},
     "output_type": "execute_result"
    },
    {
     "data": {
      "text/plain": [
       "238033"
      ]
     },
     "execution_count": 7,
     "metadata": {},
     "output_type": "execute_result"
    },
    {
     "data": {
      "text/plain": [
       "238033"
      ]
     },
     "execution_count": 7,
     "metadata": {},
     "output_type": "execute_result"
    },
    {
     "data": {
      "text/plain": [
       "26631"
      ]
     },
     "execution_count": 7,
     "metadata": {},
     "output_type": "execute_result"
    },
    {
     "data": {
      "text/plain": [
       "26631"
      ]
     },
     "execution_count": 7,
     "metadata": {},
     "output_type": "execute_result"
    }
   ],
   "source": [
    "df_sales['total_price'].sum()\n",
    "at_sales['total_price_sum'].sum()\n",
    "\n",
    "df_sales['quantity'].sum()\n",
    "at_sales['quantity_sum'].sum()\n",
    "\n",
    "df_sales['transaction_id'].nunique()\n",
    "at_sales['transactions_num'].sum()"
   ]
  },
  {
   "cell_type": "code",
   "execution_count": 8,
   "metadata": {},
   "outputs": [
    {
     "name": "stdout",
     "output_type": "stream",
     "text": [
      "<class 'pandas.core.frame.DataFrame'>\n",
      "Index: 3208 entries, 0 to 3207\n",
      "Data columns (total 6 columns):\n",
      " #   Column                Non-Null Count  Dtype         \n",
      "---  ------                --------------  -----         \n",
      " 0   transaction_date      3208 non-null   datetime64[ns]\n",
      " 1   customer_id           3208 non-null   int64         \n",
      " 2   transactions_num      3208 non-null   int64         \n",
      " 3   product_category_num  3208 non-null   int64         \n",
      " 4   quantity_sum          3208 non-null   int64         \n",
      " 5   total_price_sum       3208 non-null   float64       \n",
      "dtypes: datetime64[ns](1), float64(1), int64(4)\n",
      "memory usage: 175.4 KB\n"
     ]
    }
   ],
   "source": [
    "at_sales.info() # "
   ]
  },
  {
   "cell_type": "markdown",
   "metadata": {},
   "source": [
    "Add the first and the last transaction dates"
   ]
  },
  {
   "cell_type": "code",
   "execution_count": 9,
   "metadata": {},
   "outputs": [],
   "source": [
    "at_sales['first_transaction_date'] = at_sales.groupby(['customer_id'])['transaction_date'].transform('min')\n",
    "at_sales['last_transaction_date'] = at_sales.groupby(['customer_id'])['transaction_date'].transform('max')"
   ]
  },
  {
   "cell_type": "code",
   "execution_count": 10,
   "metadata": {},
   "outputs": [
    {
     "data": {
      "text/html": [
       "<div>\n",
       "<style scoped>\n",
       "    .dataframe tbody tr th:only-of-type {\n",
       "        vertical-align: middle;\n",
       "    }\n",
       "\n",
       "    .dataframe tbody tr th {\n",
       "        vertical-align: top;\n",
       "    }\n",
       "\n",
       "    .dataframe thead th {\n",
       "        text-align: right;\n",
       "    }\n",
       "</style>\n",
       "<table border=\"1\" class=\"dataframe\">\n",
       "  <thead>\n",
       "    <tr style=\"text-align: right;\">\n",
       "      <th></th>\n",
       "      <th>transaction_date</th>\n",
       "      <th>customer_id</th>\n",
       "      <th>transactions_num</th>\n",
       "      <th>product_category_num</th>\n",
       "      <th>quantity_sum</th>\n",
       "      <th>total_price_sum</th>\n",
       "      <th>first_transaction_date</th>\n",
       "      <th>last_transaction_date</th>\n",
       "    </tr>\n",
       "  </thead>\n",
       "  <tbody>\n",
       "    <tr>\n",
       "      <th>1362</th>\n",
       "      <td>2019-06-11</td>\n",
       "      <td>16782</td>\n",
       "      <td>5</td>\n",
       "      <td>6</td>\n",
       "      <td>11</td>\n",
       "      <td>548.70</td>\n",
       "      <td>2019-03-18</td>\n",
       "      <td>2019-12-04</td>\n",
       "    </tr>\n",
       "    <tr>\n",
       "      <th>1026</th>\n",
       "      <td>2019-05-05</td>\n",
       "      <td>12753</td>\n",
       "      <td>18</td>\n",
       "      <td>6</td>\n",
       "      <td>131</td>\n",
       "      <td>1839.31</td>\n",
       "      <td>2019-01-08</td>\n",
       "      <td>2019-05-05</td>\n",
       "    </tr>\n",
       "    <tr>\n",
       "      <th>875</th>\n",
       "      <td>2019-04-18</td>\n",
       "      <td>15311</td>\n",
       "      <td>2</td>\n",
       "      <td>1</td>\n",
       "      <td>337</td>\n",
       "      <td>13667.63</td>\n",
       "      <td>2019-02-01</td>\n",
       "      <td>2019-12-19</td>\n",
       "    </tr>\n",
       "    <tr>\n",
       "      <th>1478</th>\n",
       "      <td>2019-06-21</td>\n",
       "      <td>13496</td>\n",
       "      <td>1</td>\n",
       "      <td>1</td>\n",
       "      <td>1</td>\n",
       "      <td>58.79</td>\n",
       "      <td>2019-03-06</td>\n",
       "      <td>2019-06-21</td>\n",
       "    </tr>\n",
       "    <tr>\n",
       "      <th>1171</th>\n",
       "      <td>2019-05-21</td>\n",
       "      <td>17576</td>\n",
       "      <td>4</td>\n",
       "      <td>4</td>\n",
       "      <td>17</td>\n",
       "      <td>320.60</td>\n",
       "      <td>2019-04-20</td>\n",
       "      <td>2019-09-19</td>\n",
       "    </tr>\n",
       "  </tbody>\n",
       "</table>\n",
       "</div>"
      ],
      "text/plain": [
       "     transaction_date  customer_id  transactions_num  product_category_num   \n",
       "1362 2019-06-11        16782        5                 6                     \\\n",
       "1026 2019-05-05        12753        18                6                      \n",
       "875  2019-04-18        15311        2                 1                      \n",
       "1478 2019-06-21        13496        1                 1                      \n",
       "1171 2019-05-21        17576        4                 4                      \n",
       "\n",
       "      quantity_sum  total_price_sum first_transaction_date   \n",
       "1362  11            548.70          2019-03-18              \\\n",
       "1026  131           1839.31         2019-01-08               \n",
       "875   337           13667.63        2019-02-01               \n",
       "1478  1             58.79           2019-03-06               \n",
       "1171  17            320.60          2019-04-20               \n",
       "\n",
       "     last_transaction_date  \n",
       "1362 2019-12-04             \n",
       "1026 2019-05-05             \n",
       "875  2019-12-19             \n",
       "1478 2019-06-21             \n",
       "1171 2019-09-19             "
      ]
     },
     "execution_count": 10,
     "metadata": {},
     "output_type": "execute_result"
    }
   ],
   "source": [
    "at_sales.sample(5)"
   ]
  },
  {
   "cell_type": "markdown",
   "metadata": {},
   "source": [
    "Add indicators of the first and the last customer activities"
   ]
  },
  {
   "cell_type": "code",
   "execution_count": 11,
   "metadata": {},
   "outputs": [],
   "source": [
    "at_sales['is_new_user'] = ( at_sales['first_transaction_date']==at_sales['transaction_date'] ) * 1\n",
    "at_sales['is_last_purchase'] = ( at_sales['last_transaction_date']==at_sales['transaction_date'] ) * 1"
   ]
  },
  {
   "cell_type": "code",
   "execution_count": 12,
   "metadata": {},
   "outputs": [
    {
     "data": {
      "text/html": [
       "<div>\n",
       "<style scoped>\n",
       "    .dataframe tbody tr th:only-of-type {\n",
       "        vertical-align: middle;\n",
       "    }\n",
       "\n",
       "    .dataframe tbody tr th {\n",
       "        vertical-align: top;\n",
       "    }\n",
       "\n",
       "    .dataframe thead th {\n",
       "        text-align: right;\n",
       "    }\n",
       "</style>\n",
       "<table border=\"1\" class=\"dataframe\">\n",
       "  <thead>\n",
       "    <tr style=\"text-align: right;\">\n",
       "      <th></th>\n",
       "      <th>transaction_date</th>\n",
       "      <th>customer_id</th>\n",
       "      <th>transactions_num</th>\n",
       "      <th>product_category_num</th>\n",
       "      <th>quantity_sum</th>\n",
       "      <th>total_price_sum</th>\n",
       "      <th>first_transaction_date</th>\n",
       "      <th>last_transaction_date</th>\n",
       "      <th>is_new_user</th>\n",
       "      <th>is_last_purchase</th>\n",
       "    </tr>\n",
       "  </thead>\n",
       "  <tbody>\n",
       "    <tr>\n",
       "      <th>929</th>\n",
       "      <td>2019-04-21</td>\n",
       "      <td>14713</td>\n",
       "      <td>14</td>\n",
       "      <td>5</td>\n",
       "      <td>54</td>\n",
       "      <td>2561.27</td>\n",
       "      <td>2019-04-21</td>\n",
       "      <td>2019-09-30</td>\n",
       "      <td>1</td>\n",
       "      <td>0</td>\n",
       "    </tr>\n",
       "    <tr>\n",
       "      <th>1503</th>\n",
       "      <td>2019-06-23</td>\n",
       "      <td>14713</td>\n",
       "      <td>12</td>\n",
       "      <td>6</td>\n",
       "      <td>56</td>\n",
       "      <td>1293.57</td>\n",
       "      <td>2019-04-21</td>\n",
       "      <td>2019-09-30</td>\n",
       "      <td>0</td>\n",
       "      <td>0</td>\n",
       "    </tr>\n",
       "    <tr>\n",
       "      <th>2414</th>\n",
       "      <td>2019-09-30</td>\n",
       "      <td>14713</td>\n",
       "      <td>23</td>\n",
       "      <td>6</td>\n",
       "      <td>109</td>\n",
       "      <td>3452.09</td>\n",
       "      <td>2019-04-21</td>\n",
       "      <td>2019-09-30</td>\n",
       "      <td>0</td>\n",
       "      <td>1</td>\n",
       "    </tr>\n",
       "  </tbody>\n",
       "</table>\n",
       "</div>"
      ],
      "text/plain": [
       "     transaction_date  customer_id  transactions_num  product_category_num   \n",
       "929  2019-04-21        14713        14                5                     \\\n",
       "1503 2019-06-23        14713        12                6                      \n",
       "2414 2019-09-30        14713        23                6                      \n",
       "\n",
       "      quantity_sum  total_price_sum first_transaction_date   \n",
       "929   54            2561.27         2019-04-21              \\\n",
       "1503  56            1293.57         2019-04-21               \n",
       "2414  109           3452.09         2019-04-21               \n",
       "\n",
       "     last_transaction_date  is_new_user  is_last_purchase  \n",
       "929  2019-09-30             1            0                 \n",
       "1503 2019-09-30             0            0                 \n",
       "2414 2019-09-30             0            1                 "
      ]
     },
     "execution_count": 12,
     "metadata": {},
     "output_type": "execute_result"
    }
   ],
   "source": [
    "at_sales[at_sales['customer_id'] == 14713].sort_values(by='transaction_date')"
   ]
  },
  {
   "cell_type": "markdown",
   "metadata": {},
   "source": [
    "Add new columns of averages\n",
    "\n",
    "Generally, an order may encompass one or more transactions. Each transaction is a record of an action that is taken on an order.\n",
    "However, the order ID is not presented in the datasets. \n",
    "\n",
    "Therefore, we will consider the average transaction cost, average quantity items per transaction, ets"
   ]
  },
  {
   "cell_type": "code",
   "execution_count": 14,
   "metadata": {},
   "outputs": [],
   "source": [
    "# todo - maybe after aggregation"
   ]
  },
  {
   "cell_type": "code",
   "execution_count": null,
   "metadata": {},
   "outputs": [],
   "source": []
  },
  {
   "cell_type": "code",
   "execution_count": null,
   "metadata": {},
   "outputs": [],
   "source": []
  },
  {
   "cell_type": "markdown",
   "metadata": {},
   "source": [
    "Save analytical tale"
   ]
  },
  {
   "cell_type": "code",
   "execution_count": 16,
   "metadata": {},
   "outputs": [],
   "source": [
    "path_to_save = '../data/processed/'\n",
    "file_at_sales = 'at_sales.csv'\n",
    "hp.write_df_to_csv(at_sales, path_to_save, file_at_sales)"
   ]
  }
 ],
 "metadata": {
  "kernelspec": {
   "display_name": "Python 3",
   "language": "python",
   "name": "python3"
  },
  "language_info": {
   "codemirror_mode": {
    "name": "ipython",
    "version": 3
   },
   "file_extension": ".py",
   "mimetype": "text/x-python",
   "name": "python",
   "nbconvert_exporter": "python",
   "pygments_lexer": "ipython3",
   "version": "3.9.16"
  }
 },
 "nbformat": 4,
 "nbformat_minor": 2
}
